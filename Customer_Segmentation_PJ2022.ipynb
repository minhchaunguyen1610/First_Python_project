{
 "cells": [
  {
   "cell_type": "markdown",
   "metadata": {},
   "source": [
    "# BUSA3020 - Assignment 3  \n",
    "\n",
    "**Assignment Points**: 100    \n",
    "**Assignment Weight**: 20%   \n",
    "**Due Date**: Friday of Week 11 at 11:59pm   \n",
    "\n",
    "\n"
   ]
  },
  {
   "cell_type": "markdown",
   "metadata": {},
   "source": [
    "---\n",
    "\n",
    "## About This Assignment\n",
    "Customer segmentation is the process of dividing customers into groups based on common characteristics so companies can market to each group effectively and appropriately. It can be employed by all types of business, regardless of size, industry and whether they sell online or in person. For example, a small business selling guitars might decide to promote lower-priced products to younger guitarists and higher-priced premium guitars to older musicians based on segment knowledge which tells them that younger musicians have less disposable income than their older counterparts.  \n",
    "\n",
    "<hr style=\"width:35%;margin-left:0;\"> \n",
    "\n",
    "## Task\n",
    "You are employed by a large supermarket chain to perform customer segmentation analysis. In particular, you are provided with a dataset on 2000 customers that has been collected through loyalty cards that customers use at checkout, and includes variables such as customer age, gender, annual income, etc. \n",
    "\n",
    "Your task is to analyse the data in Python using relevant techniques covered in lectures, and identify customer segments given the dataset. You will then collect your results in tables and diagrams which you will include in a report of **up to 1000 words** (not counting tables and figures). Make sure your report is informative, intuitive, and easy to understand by the management, who may not have technical expertise. \n",
    "\n",
    "Your report should include the following headings:\n",
    "\n",
    "1. **Introduction** (10 marks)\n",
    "    - Motivate the problem and what you are trying to achomplish in this report\n",
    "2. **Exploratory Data Analysis** (20 marks)\n",
    "    - Perform basic exploratory data analysis, present and comment on summary statistics, etc.\n",
    "3. **Customer Segmentation** (40 marks)\n",
    "    - Apply clustering analysis we covered in lectures\n",
    "    - Choose an optimal number of customer segments/clusters  \n",
    "    - Interpret identified clusters in terms customer profiles, e.g. there may be a cluster of university educated females living in a mid-sized city\n",
    "    - Use two different clustering techniques\n",
    "    - How do the clusters identified by the two techniques compare?\n",
    "4. **Recommendations** (20 marks)\n",
    "    - Provide some suggestions regarding marketing techniques that may be developed for different clusters of customers \n",
    "5. **Conclusion** (10 marks)\n",
    "    - A brief summary of what you have done in the report\n",
    "\n",
    "<hr style=\"width:35%;margin-left:0;\"> \n",
    "\n",
    "## Submission   \n",
    "You will need to submit two files:   \n",
    "1. One Jupyter Notebook containing Python code used in your analysis. Make sure your code is clean and easy to understand by the markers. Include comments.  \n",
    "2. One PDF document containing your report to be submitted to the management. The report should be self-contained and include all relevant tables/graphs that you generated using the submitted Jupyter notebook. You can write the report in Word, and then save it as a PDF file which will be submitted."
   ]
  },
  {
   "cell_type": "code",
   "execution_count": 1,
   "metadata": {},
   "outputs": [],
   "source": [
    "import pandas as pd\n",
    "import numpy as np\n",
    "import seaborn as sns\n",
    "import matplotlib.pyplot as plt\n",
    "%matplotlib inline\n",
    "from sklearn.model_selection import train_test_split\n",
    "from sklearn import linear_model\n",
    "from sklearn.metrics import r2_score\n",
    "from sklearn.linear_model import LogisticRegression\n",
    "from sklearn.metrics import confusion_matrix, accuracy_score\n",
    "from sklearn.feature_selection import RFE\n",
    "from sklearn.cluster import KMeans"
   ]
  },
  {
   "cell_type": "code",
   "execution_count": 2,
   "metadata": {},
   "outputs": [],
   "source": [
    "df = pd.read_csv('data/data.csv')\n",
    "df = df.drop(columns=['ID'])"
   ]
  },
  {
   "cell_type": "code",
   "execution_count": 3,
   "metadata": {},
   "outputs": [
    {
     "data": {
      "text/html": [
       "<div>\n",
       "<style scoped>\n",
       "    .dataframe tbody tr th:only-of-type {\n",
       "        vertical-align: middle;\n",
       "    }\n",
       "\n",
       "    .dataframe tbody tr th {\n",
       "        vertical-align: top;\n",
       "    }\n",
       "\n",
       "    .dataframe thead th {\n",
       "        text-align: right;\n",
       "    }\n",
       "</style>\n",
       "<table border=\"1\" class=\"dataframe\">\n",
       "  <thead>\n",
       "    <tr style=\"text-align: right;\">\n",
       "      <th></th>\n",
       "      <th>Sex</th>\n",
       "      <th>Marital status</th>\n",
       "      <th>Age</th>\n",
       "      <th>Education</th>\n",
       "      <th>Income</th>\n",
       "      <th>Occupation</th>\n",
       "      <th>Settlement size</th>\n",
       "    </tr>\n",
       "  </thead>\n",
       "  <tbody>\n",
       "    <tr>\n",
       "      <th>0</th>\n",
       "      <td>0</td>\n",
       "      <td>0</td>\n",
       "      <td>67</td>\n",
       "      <td>2</td>\n",
       "      <td>124670</td>\n",
       "      <td>1</td>\n",
       "      <td>2</td>\n",
       "    </tr>\n",
       "    <tr>\n",
       "      <th>1</th>\n",
       "      <td>1</td>\n",
       "      <td>1</td>\n",
       "      <td>22</td>\n",
       "      <td>1</td>\n",
       "      <td>150773</td>\n",
       "      <td>1</td>\n",
       "      <td>2</td>\n",
       "    </tr>\n",
       "    <tr>\n",
       "      <th>2</th>\n",
       "      <td>0</td>\n",
       "      <td>0</td>\n",
       "      <td>49</td>\n",
       "      <td>1</td>\n",
       "      <td>89210</td>\n",
       "      <td>0</td>\n",
       "      <td>0</td>\n",
       "    </tr>\n",
       "    <tr>\n",
       "      <th>3</th>\n",
       "      <td>0</td>\n",
       "      <td>0</td>\n",
       "      <td>45</td>\n",
       "      <td>1</td>\n",
       "      <td>171565</td>\n",
       "      <td>1</td>\n",
       "      <td>1</td>\n",
       "    </tr>\n",
       "    <tr>\n",
       "      <th>4</th>\n",
       "      <td>0</td>\n",
       "      <td>0</td>\n",
       "      <td>53</td>\n",
       "      <td>1</td>\n",
       "      <td>149031</td>\n",
       "      <td>1</td>\n",
       "      <td>1</td>\n",
       "    </tr>\n",
       "    <tr>\n",
       "      <th>...</th>\n",
       "      <td>...</td>\n",
       "      <td>...</td>\n",
       "      <td>...</td>\n",
       "      <td>...</td>\n",
       "      <td>...</td>\n",
       "      <td>...</td>\n",
       "      <td>...</td>\n",
       "    </tr>\n",
       "    <tr>\n",
       "      <th>1995</th>\n",
       "      <td>1</td>\n",
       "      <td>0</td>\n",
       "      <td>47</td>\n",
       "      <td>1</td>\n",
       "      <td>123525</td>\n",
       "      <td>0</td>\n",
       "      <td>0</td>\n",
       "    </tr>\n",
       "    <tr>\n",
       "      <th>1996</th>\n",
       "      <td>1</td>\n",
       "      <td>1</td>\n",
       "      <td>27</td>\n",
       "      <td>1</td>\n",
       "      <td>117744</td>\n",
       "      <td>1</td>\n",
       "      <td>0</td>\n",
       "    </tr>\n",
       "    <tr>\n",
       "      <th>1997</th>\n",
       "      <td>0</td>\n",
       "      <td>0</td>\n",
       "      <td>31</td>\n",
       "      <td>0</td>\n",
       "      <td>86400</td>\n",
       "      <td>0</td>\n",
       "      <td>0</td>\n",
       "    </tr>\n",
       "    <tr>\n",
       "      <th>1998</th>\n",
       "      <td>1</td>\n",
       "      <td>1</td>\n",
       "      <td>24</td>\n",
       "      <td>1</td>\n",
       "      <td>97968</td>\n",
       "      <td>0</td>\n",
       "      <td>0</td>\n",
       "    </tr>\n",
       "    <tr>\n",
       "      <th>1999</th>\n",
       "      <td>0</td>\n",
       "      <td>0</td>\n",
       "      <td>25</td>\n",
       "      <td>0</td>\n",
       "      <td>68416</td>\n",
       "      <td>0</td>\n",
       "      <td>0</td>\n",
       "    </tr>\n",
       "  </tbody>\n",
       "</table>\n",
       "<p>2000 rows × 7 columns</p>\n",
       "</div>"
      ],
      "text/plain": [
       "      Sex  Marital status  Age  Education  Income  Occupation  Settlement size\n",
       "0       0               0   67          2  124670           1                2\n",
       "1       1               1   22          1  150773           1                2\n",
       "2       0               0   49          1   89210           0                0\n",
       "3       0               0   45          1  171565           1                1\n",
       "4       0               0   53          1  149031           1                1\n",
       "...   ...             ...  ...        ...     ...         ...              ...\n",
       "1995    1               0   47          1  123525           0                0\n",
       "1996    1               1   27          1  117744           1                0\n",
       "1997    0               0   31          0   86400           0                0\n",
       "1998    1               1   24          1   97968           0                0\n",
       "1999    0               0   25          0   68416           0                0\n",
       "\n",
       "[2000 rows x 7 columns]"
      ]
     },
     "execution_count": 3,
     "metadata": {},
     "output_type": "execute_result"
    }
   ],
   "source": [
    "df"
   ]
  },
  {
   "cell_type": "code",
   "execution_count": 4,
   "metadata": {},
   "outputs": [
    {
     "name": "stdout",
     "output_type": "stream",
     "text": [
      "<class 'pandas.core.frame.DataFrame'>\n",
      "RangeIndex: 2000 entries, 0 to 1999\n",
      "Data columns (total 7 columns):\n",
      " #   Column           Non-Null Count  Dtype\n",
      "---  ------           --------------  -----\n",
      " 0   Sex              2000 non-null   int64\n",
      " 1   Marital status   2000 non-null   int64\n",
      " 2   Age              2000 non-null   int64\n",
      " 3   Education        2000 non-null   int64\n",
      " 4   Income           2000 non-null   int64\n",
      " 5   Occupation       2000 non-null   int64\n",
      " 6   Settlement size  2000 non-null   int64\n",
      "dtypes: int64(7)\n",
      "memory usage: 109.5 KB\n"
     ]
    }
   ],
   "source": [
    "df.info()"
   ]
  },
  {
   "cell_type": "code",
   "execution_count": 5,
   "metadata": {},
   "outputs": [
    {
     "data": {
      "text/plain": [
       "count      2000.000000\n",
       "mean     120954.419000\n",
       "std       38108.824679\n",
       "min       35832.000000\n",
       "25%       97663.250000\n",
       "50%      115548.500000\n",
       "75%      138072.250000\n",
       "max      309364.000000\n",
       "Name: Income, dtype: float64"
      ]
     },
     "execution_count": 5,
     "metadata": {},
     "output_type": "execute_result"
    }
   ],
   "source": [
    "df.Income.describe()"
   ]
  },
  {
   "cell_type": "code",
   "execution_count": 6,
   "metadata": {},
   "outputs": [
    {
     "data": {
      "image/png": "[encoded data removed]",
      "text/plain": [
       "<Figure size 1080x432 with 1 Axes>"
      ]
     },
     "metadata": {
      "needs_background": "light"
     },
     "output_type": "display_data"
    }
   ],
   "source": [
    "income35k_90k = df[\"Income\"][(df[\"Income\"] >= 35000) & (df[\"Income\"] <= 90000)]\n",
    "income90k_145k = df[\"Income\"][(df[\"Income\"] >= 90001) & (df[\"Income\"] <= 145000)]\n",
    "income145k_200k = df[\"Income\"][(df[\"Income\"] >= 145001) & (df[\"Income\"] <= 200000)]\n",
    "income200k_255k = df[\"Income\"][(df[\"Income\"] >= 200001) & (df[\"Income\"] <= 255000)]\n",
    "income255k_310k = df[\"Income\"][(df[\"Income\"] >= 255001) & (df[\"Income\"] <= 310000)]\n",
    "\n",
    "icx = [\"35k-90k\", \"90k-145k\", \"145k-200k\", \"100k-255k\", \"255k-310k\"]\n",
    "icy = [len(income35k_90k.values), len(income90k_145k.values), len(income145k_200k.values), len(income200k_255k.values), len(income255k_310k.values)]\n",
    "\n",
    "plt.figure(figsize=(15,6))\n",
    "sns.barplot(x=icx, y=icy, palette=\"nipy_spectral_r\")\n",
    "plt.title(\"Numeber of Customers and amount of Income\")\n",
    "plt.xlabel(\"Income amount\")\n",
    "plt.ylabel(\"Number of Customer Having income\")\n",
    "plt.show()"
   ]
  },
  {
   "cell_type": "code",
   "execution_count": 7,
   "metadata": {},
   "outputs": [
    {
     "data": {
      "image/png": "[encoded data removed]",
      "text/plain": [
       "<Figure size 1080x432 with 1 Axes>"
      ]
     },
     "metadata": {
      "needs_background": "light"
     },
     "output_type": "display_data"
    }
   ],
   "source": [
    "age18_25 = df.Age[(df.Age <= 25) & (df.Age >= 18)]\n",
    "age26_35 = df.Age[(df.Age <= 35) & (df.Age >= 26)]\n",
    "age36_45 = df.Age[(df.Age <= 45) & (df.Age >= 36)]\n",
    "age46_55 = df.Age[(df.Age <= 55) & (df.Age >= 46)]\n",
    "age55above = df.Age[df.Age >= 56]\n",
    "\n",
    "x = [\"18-25\",\"26-35\",\"36-45\",\"46-55\",\"55+\"]\n",
    "y = [len(age18_25.values),len(age26_35.values),len(age36_45.values),len(age46_55.values),len(age55above.values)]\n",
    "\n",
    "plt.figure(figsize=(15,6))\n",
    "sns.barplot(x=x, y=y, palette=\"rocket\")\n",
    "plt.title(\"Number of Customer and Ages\")\n",
    "plt.xlabel(\"Age\")\n",
    "plt.ylabel(\"Number of Customer\")\n",
    "plt.show()"
   ]
  },
  {
   "cell_type": "code",
   "execution_count": null,
   "metadata": {},
   "outputs": [],
   "source": []
  },
  {
   "cell_type": "code",
   "execution_count": 8,
   "metadata": {},
   "outputs": [
    {
     "name": "stdout",
     "output_type": "stream",
     "text": [
      "Number of Male Customers: 914 customers\n",
      "Number of Female Customers: 1086 customers\n",
      "-----------------------------------\n",
      "Number of Unemployed Customers: 633 customers\n",
      "Number of Skilled Employed Customers: 1113 customers\n",
      "Number of Managament Customers: 254 customers\n",
      "-----------------------------------\n",
      "Number of Single Customers: 1007 customers\n",
      "Number of Non-single Customers: 993 customers\n",
      "-----------------------------------\n",
      "Unknown education : 287 customers\n",
      "Highschool level : 1386 customers\n",
      "University level: 291 customers\n",
      "Graduate: 291 customers\n",
      "-----------------------------------\n",
      "Customers live in small city: 989 customers\n",
      "Customers live in Mid-size city: 544 customers\n",
      "Customers live in Big city: 544 customers\n"
     ]
    }
   ],
   "source": [
    "print('Number of Male Customers:',len(df[df.Sex== 1]),'customers')\n",
    "print('Number of Female Customers:', len(df[df.Sex== 0]),'customers')\n",
    "print('-----------------------------------')\n",
    "\n",
    "print('Number of Unemployed Customers:',len(df[df.Occupation == 0]),'customers')\n",
    "print('Number of Skilled Employed Customers:', len(df[df.Occupation == 1]),'customers')\n",
    "print('Number of Managament Customers:', len(df[df.Occupation == 2]),'customers')\n",
    "\n",
    "print('-----------------------------------')\n",
    "print('Number of Single Customers:',len(df[df['Marital status'] == 0]),'customers')\n",
    "print('Number of Non-single Customers:',len(df[df['Marital status'] == 1]),'customers')\n",
    "print('-----------------------------------')\n",
    "\n",
    "print('Unknown education :',len(df[df.Education == 0]),'customers')\n",
    "print('Highschool level :', len(df[df.Education == 1]),'customers')\n",
    "print('University level:', len(df[df.Education == 2]),'customers')\n",
    "print('Graduate:', len(df[df.Education == 2]),'customers')\n",
    "\n",
    "print('-----------------------------------')\n",
    "print('Customers live in small city:',len(df[df['Settlement size'] == 0]),'customers')\n",
    "print('Customers live in Mid-size city:',len(df[df['Settlement size'] == 1]),'customers')\n",
    "print('Customers live in Big city:',len(df[df['Settlement size'] == 1]),'customers')\n"
   ]
  },
  {
   "cell_type": "code",
   "execution_count": 9,
   "metadata": {},
   "outputs": [
    {
     "data": {
      "text/plain": [
       "Sex                int64\n",
       "Marital status     int64\n",
       "Age                int64\n",
       "Education          int64\n",
       "Income             int64\n",
       "Occupation         int64\n",
       "Settlement size    int64\n",
       "dtype: object"
      ]
     },
     "execution_count": 9,
     "metadata": {},
     "output_type": "execute_result"
    }
   ],
   "source": [
    "df.dtypes"
   ]
  },
  {
   "cell_type": "code",
   "execution_count": 10,
   "metadata": {},
   "outputs": [
    {
     "data": {
      "text/html": [
       "<div>\n",
       "<style scoped>\n",
       "    .dataframe tbody tr th:only-of-type {\n",
       "        vertical-align: middle;\n",
       "    }\n",
       "\n",
       "    .dataframe tbody tr th {\n",
       "        vertical-align: top;\n",
       "    }\n",
       "\n",
       "    .dataframe thead th {\n",
       "        text-align: right;\n",
       "    }\n",
       "</style>\n",
       "<table border=\"1\" class=\"dataframe\">\n",
       "  <thead>\n",
       "    <tr style=\"text-align: right;\">\n",
       "      <th></th>\n",
       "      <th>Sex</th>\n",
       "      <th>Marital status</th>\n",
       "      <th>Age</th>\n",
       "      <th>Education</th>\n",
       "      <th>Income</th>\n",
       "      <th>Occupation</th>\n",
       "      <th>Settlement size</th>\n",
       "    </tr>\n",
       "  </thead>\n",
       "  <tbody>\n",
       "    <tr>\n",
       "      <th>0</th>\n",
       "      <td>0</td>\n",
       "      <td>0</td>\n",
       "      <td>67</td>\n",
       "      <td>2</td>\n",
       "      <td>124670</td>\n",
       "      <td>1</td>\n",
       "      <td>2</td>\n",
       "    </tr>\n",
       "    <tr>\n",
       "      <th>1</th>\n",
       "      <td>1</td>\n",
       "      <td>1</td>\n",
       "      <td>22</td>\n",
       "      <td>1</td>\n",
       "      <td>150773</td>\n",
       "      <td>1</td>\n",
       "      <td>2</td>\n",
       "    </tr>\n",
       "    <tr>\n",
       "      <th>2</th>\n",
       "      <td>0</td>\n",
       "      <td>0</td>\n",
       "      <td>49</td>\n",
       "      <td>1</td>\n",
       "      <td>89210</td>\n",
       "      <td>0</td>\n",
       "      <td>0</td>\n",
       "    </tr>\n",
       "    <tr>\n",
       "      <th>3</th>\n",
       "      <td>0</td>\n",
       "      <td>0</td>\n",
       "      <td>45</td>\n",
       "      <td>1</td>\n",
       "      <td>171565</td>\n",
       "      <td>1</td>\n",
       "      <td>1</td>\n",
       "    </tr>\n",
       "    <tr>\n",
       "      <th>4</th>\n",
       "      <td>0</td>\n",
       "      <td>0</td>\n",
       "      <td>53</td>\n",
       "      <td>1</td>\n",
       "      <td>149031</td>\n",
       "      <td>1</td>\n",
       "      <td>1</td>\n",
       "    </tr>\n",
       "  </tbody>\n",
       "</table>\n",
       "</div>"
      ],
      "text/plain": [
       "   Sex  Marital status  Age  Education  Income  Occupation  Settlement size\n",
       "0    0               0   67          2  124670           1                2\n",
       "1    1               1   22          1  150773           1                2\n",
       "2    0               0   49          1   89210           0                0\n",
       "3    0               0   45          1  171565           1                1\n",
       "4    0               0   53          1  149031           1                1"
      ]
     },
     "execution_count": 10,
     "metadata": {},
     "output_type": "execute_result"
    }
   ],
   "source": [
    "df.head()"
   ]
  },
  {
   "cell_type": "code",
   "execution_count": 11,
   "metadata": {},
   "outputs": [
    {
     "name": "stderr",
     "output_type": "stream",
     "text": [
      "/Users/chaunguyen/opt/anaconda3/lib/python3.9/site-packages/seaborn/distributions.py:2619: FutureWarning: `distplot` is a deprecated function and will be removed in a future version. Please adapt your code to use either `displot` (a figure-level function with similar flexibility) or `histplot` (an axes-level function for histograms).\n",
      "  warnings.warn(msg, FutureWarning)\n",
      "/Users/chaunguyen/opt/anaconda3/lib/python3.9/site-packages/seaborn/distributions.py:2619: FutureWarning: `distplot` is a deprecated function and will be removed in a future version. Please adapt your code to use either `displot` (a figure-level function with similar flexibility) or `histplot` (an axes-level function for histograms).\n",
      "  warnings.warn(msg, FutureWarning)\n"
     ]
    },
    {
     "data": {
      "image/png": "[encoded data removed]",
      "text/plain": [
       "<Figure size 1080x432 with 2 Axes>"
      ]
     },
     "metadata": {
      "needs_background": "light"
     },
     "output_type": "display_data"
    }
   ],
   "source": [
    "plt.figure(1, figsize=(15,6))\n",
    "n= 0 \n",
    "for x in [\"Age\", \"Income\"]:\n",
    "    n+=1\n",
    "    plt.subplot(1,2,n)\n",
    "    plt.subplots_adjust(hspace = 0.5, wspace = 0.5)\n",
    "    sns.distplot(df[x], bins = 20)\n",
    "    plt.title('Distribution of {}'.format(x))\n",
    "plt.show()"
   ]
  },
  {
   "cell_type": "code",
   "execution_count": 12,
   "metadata": {},
   "outputs": [
    {
     "data": {
      "image/png": "[encoded data removed]",
      "text/plain": [
       "<Figure size 1080x432 with 1 Axes>"
      ]
     },
     "metadata": {
      "needs_background": "light"
     },
     "output_type": "display_data"
    }
   ],
   "source": [
    "plt.figure(1, figsize=(15,6))\n",
    "sns.countplot(y='Sex', data = df)\n",
    "plt.show()"
   ]
  },
  {
   "cell_type": "code",
   "execution_count": 13,
   "metadata": {},
   "outputs": [],
   "source": [
    "#X = df.loc[:,[\"Age\",\"Income\"]].value\n",
    "X = df.loc[:,['Age','Income']].values\n",
    "X1 = df.values"
   ]
  },
  {
   "cell_type": "markdown",
   "metadata": {},
   "source": [
    "# Kmeans Clustering"
   ]
  },
  {
   "cell_type": "code",
   "execution_count": 14,
   "metadata": {},
   "outputs": [
    {
     "name": "stdout",
     "output_type": "stream",
     "text": [
      "[0 0 2 ... 2 2 2]\n",
      "\n",
      "Clusters:\n",
      " [[3.86740331e-01 4.48618785e-01 3.77314917e+01 1.07182320e+00\n",
      "  1.31283906e+05 9.90055249e-01 9.48066298e-01]\n",
      " [2.93333333e-01 4.57777778e-01 4.38755556e+01 1.34666667e+00\n",
      "  1.97576120e+05 1.57777778e+00 1.36444444e+00]\n",
      " [5.72413793e-01 5.56321839e-01 3.19528736e+01 9.22988506e-01\n",
      "  9.03934207e+04 4.25287356e-01 3.59770115e-01]]\n"
     ]
    }
   ],
   "source": [
    "km_plus = KMeans(n_clusters=3, \n",
    "            init='k-means++',  # use starndard k-means rather than k-means++ (see below)\n",
    "            n_init=10,      # run 10 times with different random centroids to choose the final model with the lowest SSE\n",
    "            max_iter=300,   # max number of iterations for each run\n",
    "            random_state=0)\n",
    "\n",
    "y_km_plus = km_plus.fit_predict(X1)\n",
    "\n",
    "print(y_km_plus)\n",
    "print(f'\\nClusters:\\n {km_plus.cluster_centers_}')"
   ]
  },
  {
   "cell_type": "code",
   "execution_count": 15,
   "metadata": {},
   "outputs": [
    {
     "data": {
      "image/png": "[encoded data removed]",
      "text/plain": [
       "<Figure size 432x288 with 1 Axes>"
      ]
     },
     "metadata": {
      "needs_background": "light"
     },
     "output_type": "display_data"
    }
   ],
   "source": [
    "inertias = [] # empty list\n",
    "\n",
    "for i in range(1, 11):\n",
    "    km = KMeans(n_clusters=i, \n",
    "                init='k-means++', \n",
    "                n_init=10, \n",
    "                max_iter=300, \n",
    "                random_state=0)\n",
    "    km.fit(X1)\n",
    "    inertias.append(km.inertia_)\n",
    "\n",
    "plt.plot(range(1, 11), inertias, marker='o')\n",
    "plt.xlabel('Number of clusters')\n",
    "plt.ylabel('Cluster inertia (within-cluster SSE)')\n",
    "plt.xticks(range(1,11))\n",
    "plt.tight_layout()\n",
    "#plt.savefig('images/11_03.png', dpi=300)\n",
    "plt.show()"
   ]
  },
  {
   "cell_type": "code",
   "execution_count": 16,
   "metadata": {},
   "outputs": [
    {
     "name": "stdout",
     "output_type": "stream",
     "text": [
      "[0 1 3 ... 3 0 3]\n"
     ]
    }
   ],
   "source": [
    "kmeans = KMeans(n_clusters=4)\n",
    "\n",
    "label = kmeans.fit_predict(X)\n",
    "\n",
    "print(label)"
   ]
  },
  {
   "cell_type": "code",
   "execution_count": 17,
   "metadata": {},
   "outputs": [
    {
     "name": "stdout",
     "output_type": "stream",
     "text": [
      "[[3.43819517e+01 1.14750034e+05]\n",
      " [4.09629630e+01 1.54064475e+05]\n",
      " [4.45904762e+01 2.25124867e+05]\n",
      " [3.22318841e+01 7.90856128e+04]]\n"
     ]
    }
   ],
   "source": [
    "print(kmeans.cluster_centers_)"
   ]
  },
  {
   "cell_type": "code",
   "execution_count": 18,
   "metadata": {},
   "outputs": [
    {
     "name": "stdout",
     "output_type": "stream",
     "text": [
      "[3 1 0 ... 0 3 0]\n",
      "\n",
      "Clusters:\n",
      " [[3.21963190e+01 7.93064765e+04]\n",
      " [4.09406593e+01 1.54237231e+05]\n",
      " [4.45904762e+01 2.25124867e+05]\n",
      " [3.44521556e+01 1.14944185e+05]]\n"
     ]
    }
   ],
   "source": [
    "\n",
    "km = KMeans(n_clusters=4, \n",
    "            init='random',  # use standard k-means rather than k-means++ (see below)\n",
    "            n_init=10,      # run 10 times with different random centroids to choose the final model with the lowest SSE\n",
    "            max_iter=300,   # max number of iterations for each run\n",
    "            random_state=0)\n",
    "\n",
    "y_km = km.fit_predict(X)\n",
    "\n",
    "print(y_km)\n",
    "print(f'\\nClusters:\\n {km.cluster_centers_}')"
   ]
  },
  {
   "cell_type": "code",
   "execution_count": 19,
   "metadata": {},
   "outputs": [],
   "source": [
    "df['cluster_label'] = y_km"
   ]
  },
  {
   "cell_type": "code",
   "execution_count": 20,
   "metadata": {},
   "outputs": [
    {
     "data": {
      "text/html": [
       "<div>\n",
       "<style scoped>\n",
       "    .dataframe tbody tr th:only-of-type {\n",
       "        vertical-align: middle;\n",
       "    }\n",
       "\n",
       "    .dataframe tbody tr th {\n",
       "        vertical-align: top;\n",
       "    }\n",
       "\n",
       "    .dataframe thead th {\n",
       "        text-align: right;\n",
       "    }\n",
       "</style>\n",
       "<table border=\"1\" class=\"dataframe\">\n",
       "  <thead>\n",
       "    <tr style=\"text-align: right;\">\n",
       "      <th></th>\n",
       "      <th>Sex</th>\n",
       "      <th>Marital status</th>\n",
       "      <th>Age</th>\n",
       "      <th>Education</th>\n",
       "      <th>Income</th>\n",
       "      <th>Occupation</th>\n",
       "      <th>Settlement size</th>\n",
       "      <th>cluster_label</th>\n",
       "    </tr>\n",
       "  </thead>\n",
       "  <tbody>\n",
       "    <tr>\n",
       "      <th>0</th>\n",
       "      <td>0</td>\n",
       "      <td>0</td>\n",
       "      <td>67</td>\n",
       "      <td>2</td>\n",
       "      <td>124670</td>\n",
       "      <td>1</td>\n",
       "      <td>2</td>\n",
       "      <td>3</td>\n",
       "    </tr>\n",
       "    <tr>\n",
       "      <th>1</th>\n",
       "      <td>1</td>\n",
       "      <td>1</td>\n",
       "      <td>22</td>\n",
       "      <td>1</td>\n",
       "      <td>150773</td>\n",
       "      <td>1</td>\n",
       "      <td>2</td>\n",
       "      <td>1</td>\n",
       "    </tr>\n",
       "    <tr>\n",
       "      <th>2</th>\n",
       "      <td>0</td>\n",
       "      <td>0</td>\n",
       "      <td>49</td>\n",
       "      <td>1</td>\n",
       "      <td>89210</td>\n",
       "      <td>0</td>\n",
       "      <td>0</td>\n",
       "      <td>0</td>\n",
       "    </tr>\n",
       "    <tr>\n",
       "      <th>3</th>\n",
       "      <td>0</td>\n",
       "      <td>0</td>\n",
       "      <td>45</td>\n",
       "      <td>1</td>\n",
       "      <td>171565</td>\n",
       "      <td>1</td>\n",
       "      <td>1</td>\n",
       "      <td>1</td>\n",
       "    </tr>\n",
       "    <tr>\n",
       "      <th>4</th>\n",
       "      <td>0</td>\n",
       "      <td>0</td>\n",
       "      <td>53</td>\n",
       "      <td>1</td>\n",
       "      <td>149031</td>\n",
       "      <td>1</td>\n",
       "      <td>1</td>\n",
       "      <td>1</td>\n",
       "    </tr>\n",
       "    <tr>\n",
       "      <th>...</th>\n",
       "      <td>...</td>\n",
       "      <td>...</td>\n",
       "      <td>...</td>\n",
       "      <td>...</td>\n",
       "      <td>...</td>\n",
       "      <td>...</td>\n",
       "      <td>...</td>\n",
       "      <td>...</td>\n",
       "    </tr>\n",
       "    <tr>\n",
       "      <th>1995</th>\n",
       "      <td>1</td>\n",
       "      <td>0</td>\n",
       "      <td>47</td>\n",
       "      <td>1</td>\n",
       "      <td>123525</td>\n",
       "      <td>0</td>\n",
       "      <td>0</td>\n",
       "      <td>3</td>\n",
       "    </tr>\n",
       "    <tr>\n",
       "      <th>1996</th>\n",
       "      <td>1</td>\n",
       "      <td>1</td>\n",
       "      <td>27</td>\n",
       "      <td>1</td>\n",
       "      <td>117744</td>\n",
       "      <td>1</td>\n",
       "      <td>0</td>\n",
       "      <td>3</td>\n",
       "    </tr>\n",
       "    <tr>\n",
       "      <th>1997</th>\n",
       "      <td>0</td>\n",
       "      <td>0</td>\n",
       "      <td>31</td>\n",
       "      <td>0</td>\n",
       "      <td>86400</td>\n",
       "      <td>0</td>\n",
       "      <td>0</td>\n",
       "      <td>0</td>\n",
       "    </tr>\n",
       "    <tr>\n",
       "      <th>1998</th>\n",
       "      <td>1</td>\n",
       "      <td>1</td>\n",
       "      <td>24</td>\n",
       "      <td>1</td>\n",
       "      <td>97968</td>\n",
       "      <td>0</td>\n",
       "      <td>0</td>\n",
       "      <td>3</td>\n",
       "    </tr>\n",
       "    <tr>\n",
       "      <th>1999</th>\n",
       "      <td>0</td>\n",
       "      <td>0</td>\n",
       "      <td>25</td>\n",
       "      <td>0</td>\n",
       "      <td>68416</td>\n",
       "      <td>0</td>\n",
       "      <td>0</td>\n",
       "      <td>0</td>\n",
       "    </tr>\n",
       "  </tbody>\n",
       "</table>\n",
       "<p>2000 rows × 8 columns</p>\n",
       "</div>"
      ],
      "text/plain": [
       "      Sex  Marital status  Age  Education  Income  Occupation  \\\n",
       "0       0               0   67          2  124670           1   \n",
       "1       1               1   22          1  150773           1   \n",
       "2       0               0   49          1   89210           0   \n",
       "3       0               0   45          1  171565           1   \n",
       "4       0               0   53          1  149031           1   \n",
       "...   ...             ...  ...        ...     ...         ...   \n",
       "1995    1               0   47          1  123525           0   \n",
       "1996    1               1   27          1  117744           1   \n",
       "1997    0               0   31          0   86400           0   \n",
       "1998    1               1   24          1   97968           0   \n",
       "1999    0               0   25          0   68416           0   \n",
       "\n",
       "      Settlement size  cluster_label  \n",
       "0                   2              3  \n",
       "1                   2              1  \n",
       "2                   0              0  \n",
       "3                   1              1  \n",
       "4                   1              1  \n",
       "...               ...            ...  \n",
       "1995                0              3  \n",
       "1996                0              3  \n",
       "1997                0              0  \n",
       "1998                0              3  \n",
       "1999                0              0  \n",
       "\n",
       "[2000 rows x 8 columns]"
      ]
     },
     "execution_count": 20,
     "metadata": {},
     "output_type": "execute_result"
    }
   ],
   "source": [
    "df"
   ]
  },
  {
   "cell_type": "code",
   "execution_count": null,
   "metadata": {},
   "outputs": [],
   "source": []
  },
  {
   "cell_type": "code",
   "execution_count": null,
   "metadata": {},
   "outputs": [],
   "source": []
  },
  {
   "cell_type": "markdown",
   "metadata": {},
   "source": [
    "## Create 4 new data sets which contain information of customer from each cluster \n",
    "### Cluster 0"
   ]
  },
  {
   "cell_type": "code",
   "execution_count": 21,
   "metadata": {},
   "outputs": [
    {
     "data": {
      "text/html": [
       "<div>\n",
       "<style scoped>\n",
       "    .dataframe tbody tr th:only-of-type {\n",
       "        vertical-align: middle;\n",
       "    }\n",
       "\n",
       "    .dataframe tbody tr th {\n",
       "        vertical-align: top;\n",
       "    }\n",
       "\n",
       "    .dataframe thead th {\n",
       "        text-align: right;\n",
       "    }\n",
       "</style>\n",
       "<table border=\"1\" class=\"dataframe\">\n",
       "  <thead>\n",
       "    <tr style=\"text-align: right;\">\n",
       "      <th></th>\n",
       "      <th>Sex</th>\n",
       "      <th>Marital status</th>\n",
       "      <th>Age</th>\n",
       "      <th>Education</th>\n",
       "      <th>Income</th>\n",
       "      <th>Occupation</th>\n",
       "      <th>Settlement size</th>\n",
       "      <th>cluster_label</th>\n",
       "    </tr>\n",
       "  </thead>\n",
       "  <tbody>\n",
       "    <tr>\n",
       "      <th>2</th>\n",
       "      <td>0</td>\n",
       "      <td>0</td>\n",
       "      <td>49</td>\n",
       "      <td>1</td>\n",
       "      <td>89210</td>\n",
       "      <td>0</td>\n",
       "      <td>0</td>\n",
       "      <td>0</td>\n",
       "    </tr>\n",
       "    <tr>\n",
       "      <th>13</th>\n",
       "      <td>0</td>\n",
       "      <td>0</td>\n",
       "      <td>60</td>\n",
       "      <td>2</td>\n",
       "      <td>89374</td>\n",
       "      <td>0</td>\n",
       "      <td>0</td>\n",
       "      <td>0</td>\n",
       "    </tr>\n",
       "    <tr>\n",
       "      <th>15</th>\n",
       "      <td>1</td>\n",
       "      <td>1</td>\n",
       "      <td>32</td>\n",
       "      <td>1</td>\n",
       "      <td>88428</td>\n",
       "      <td>0</td>\n",
       "      <td>0</td>\n",
       "      <td>0</td>\n",
       "    </tr>\n",
       "    <tr>\n",
       "      <th>22</th>\n",
       "      <td>0</td>\n",
       "      <td>0</td>\n",
       "      <td>48</td>\n",
       "      <td>1</td>\n",
       "      <td>89804</td>\n",
       "      <td>0</td>\n",
       "      <td>0</td>\n",
       "      <td>0</td>\n",
       "    </tr>\n",
       "    <tr>\n",
       "      <th>25</th>\n",
       "      <td>0</td>\n",
       "      <td>0</td>\n",
       "      <td>36</td>\n",
       "      <td>1</td>\n",
       "      <td>71909</td>\n",
       "      <td>0</td>\n",
       "      <td>0</td>\n",
       "      <td>0</td>\n",
       "    </tr>\n",
       "    <tr>\n",
       "      <th>...</th>\n",
       "      <td>...</td>\n",
       "      <td>...</td>\n",
       "      <td>...</td>\n",
       "      <td>...</td>\n",
       "      <td>...</td>\n",
       "      <td>...</td>\n",
       "      <td>...</td>\n",
       "      <td>...</td>\n",
       "    </tr>\n",
       "    <tr>\n",
       "      <th>1987</th>\n",
       "      <td>0</td>\n",
       "      <td>0</td>\n",
       "      <td>25</td>\n",
       "      <td>0</td>\n",
       "      <td>66628</td>\n",
       "      <td>0</td>\n",
       "      <td>0</td>\n",
       "      <td>0</td>\n",
       "    </tr>\n",
       "    <tr>\n",
       "      <th>1990</th>\n",
       "      <td>1</td>\n",
       "      <td>1</td>\n",
       "      <td>31</td>\n",
       "      <td>1</td>\n",
       "      <td>78758</td>\n",
       "      <td>0</td>\n",
       "      <td>0</td>\n",
       "      <td>0</td>\n",
       "    </tr>\n",
       "    <tr>\n",
       "      <th>1993</th>\n",
       "      <td>1</td>\n",
       "      <td>0</td>\n",
       "      <td>38</td>\n",
       "      <td>1</td>\n",
       "      <td>87670</td>\n",
       "      <td>0</td>\n",
       "      <td>0</td>\n",
       "      <td>0</td>\n",
       "    </tr>\n",
       "    <tr>\n",
       "      <th>1997</th>\n",
       "      <td>0</td>\n",
       "      <td>0</td>\n",
       "      <td>31</td>\n",
       "      <td>0</td>\n",
       "      <td>86400</td>\n",
       "      <td>0</td>\n",
       "      <td>0</td>\n",
       "      <td>0</td>\n",
       "    </tr>\n",
       "    <tr>\n",
       "      <th>1999</th>\n",
       "      <td>0</td>\n",
       "      <td>0</td>\n",
       "      <td>25</td>\n",
       "      <td>0</td>\n",
       "      <td>68416</td>\n",
       "      <td>0</td>\n",
       "      <td>0</td>\n",
       "      <td>0</td>\n",
       "    </tr>\n",
       "  </tbody>\n",
       "</table>\n",
       "<p>487 rows × 8 columns</p>\n",
       "</div>"
      ],
      "text/plain": [
       "      Sex  Marital status  Age  Education  Income  Occupation  \\\n",
       "2       0               0   49          1   89210           0   \n",
       "13      0               0   60          2   89374           0   \n",
       "15      1               1   32          1   88428           0   \n",
       "22      0               0   48          1   89804           0   \n",
       "25      0               0   36          1   71909           0   \n",
       "...   ...             ...  ...        ...     ...         ...   \n",
       "1987    0               0   25          0   66628           0   \n",
       "1990    1               1   31          1   78758           0   \n",
       "1993    1               0   38          1   87670           0   \n",
       "1997    0               0   31          0   86400           0   \n",
       "1999    0               0   25          0   68416           0   \n",
       "\n",
       "      Settlement size  cluster_label  \n",
       "2                   0              0  \n",
       "13                  0              0  \n",
       "15                  0              0  \n",
       "22                  0              0  \n",
       "25                  0              0  \n",
       "...               ...            ...  \n",
       "1987                0              0  \n",
       "1990                0              0  \n",
       "1993                0              0  \n",
       "1997                0              0  \n",
       "1999                0              0  \n",
       "\n",
       "[487 rows x 8 columns]"
      ]
     },
     "execution_count": 21,
     "metadata": {},
     "output_type": "execute_result"
    }
   ],
   "source": [
    "df_cl0 = df.loc[df['cluster_label']==0]\n",
    "df_cl0# default cluster 0 "
   ]
  },
  {
   "cell_type": "code",
   "execution_count": 22,
   "metadata": {},
   "outputs": [
    {
     "name": "stderr",
     "output_type": "stream",
     "text": [
      "/Users/chaunguyen/opt/anaconda3/lib/python3.9/site-packages/seaborn/distributions.py:2619: FutureWarning: `distplot` is a deprecated function and will be removed in a future version. Please adapt your code to use either `displot` (a figure-level function with similar flexibility) or `histplot` (an axes-level function for histograms).\n",
      "  warnings.warn(msg, FutureWarning)\n",
      "/Users/chaunguyen/opt/anaconda3/lib/python3.9/site-packages/seaborn/distributions.py:2619: FutureWarning: `distplot` is a deprecated function and will be removed in a future version. Please adapt your code to use either `displot` (a figure-level function with similar flexibility) or `histplot` (an axes-level function for histograms).\n",
      "  warnings.warn(msg, FutureWarning)\n"
     ]
    },
    {
     "data": {
      "image/png": "[encoded data removed]",
      "text/plain": [
       "<Figure size 1080x432 with 2 Axes>"
      ]
     },
     "metadata": {
      "needs_background": "light"
     },
     "output_type": "display_data"
    }
   ],
   "source": [
    "plt.figure(1, figsize=(15,6))\n",
    "n= 0 \n",
    "for x in [\"Age\", \"Income\"]:\n",
    "    n+=1\n",
    "    plt.subplot(1,2,n)\n",
    "    plt.subplots_adjust(hspace = 0.5, wspace = 0.5)\n",
    "    sns.distplot(df_cl0[x], bins = 20)\n",
    "    plt.title('Distribution of {} From Cluster 0'.format(x))\n",
    "plt.show()"
   ]
  },
  {
   "cell_type": "code",
   "execution_count": 23,
   "metadata": {},
   "outputs": [
    {
     "name": "stderr",
     "output_type": "stream",
     "text": [
      "/var/folders/mx/w4srj63j0m73hzs7xw9ngqlw0000gn/T/ipykernel_29195/1606102069.py:1: SettingWithCopyWarning: \n",
      "A value is trying to be set on a copy of a slice from a DataFrame.\n",
      "Try using .loc[row_indexer,col_indexer] = value instead\n",
      "\n",
      "See the caveats in the documentation: https://pandas.pydata.org/pandas-docs/stable/user_guide/indexing.html#returning-a-view-versus-a-copy\n",
      "  df_cl0['Sex'] = df_cl0['Sex'].map({0:'MALE', 1:'FEMALE'})\n"
     ]
    },
    {
     "data": {
      "image/png": "[encoded data removed]",
      "text/plain": [
       "<Figure size 1080x432 with 1 Axes>"
      ]
     },
     "metadata": {
      "needs_background": "light"
     },
     "output_type": "display_data"
    }
   ],
   "source": [
    "df_cl0['Sex'] = df_cl0['Sex'].map({0:'MALE', 1:'FEMALE'})\n",
    "plt.figure(1, figsize=(15,6))\n",
    "sns.countplot(y='Sex', data = df_cl0)\n",
    "plt.title(\"Gender in Cluster 0\")\n",
    "plt.show()"
   ]
  },
  {
   "cell_type": "code",
   "execution_count": 24,
   "metadata": {},
   "outputs": [
    {
     "name": "stderr",
     "output_type": "stream",
     "text": [
      "/var/folders/mx/w4srj63j0m73hzs7xw9ngqlw0000gn/T/ipykernel_29195/3173634769.py:1: SettingWithCopyWarning: \n",
      "A value is trying to be set on a copy of a slice from a DataFrame.\n",
      "Try using .loc[row_indexer,col_indexer] = value instead\n",
      "\n",
      "See the caveats in the documentation: https://pandas.pydata.org/pandas-docs/stable/user_guide/indexing.html#returning-a-view-versus-a-copy\n",
      "  df_cl0['Marital status'] = df_cl0['Marital status'].map({0:'Single', 1:'Non_single'})\n"
     ]
    }
   ],
   "source": [
    "df_cl0['Marital status'] = df_cl0['Marital status'].map({0:'Single', 1:'Non_single'})"
   ]
  },
  {
   "cell_type": "code",
   "execution_count": 25,
   "metadata": {},
   "outputs": [
    {
     "name": "stderr",
     "output_type": "stream",
     "text": [
      "/var/folders/mx/w4srj63j0m73hzs7xw9ngqlw0000gn/T/ipykernel_29195/2687639792.py:1: SettingWithCopyWarning: \n",
      "A value is trying to be set on a copy of a slice from a DataFrame.\n",
      "Try using .loc[row_indexer,col_indexer] = value instead\n",
      "\n",
      "See the caveats in the documentation: https://pandas.pydata.org/pandas-docs/stable/user_guide/indexing.html#returning-a-view-versus-a-copy\n",
      "  df_cl0['Education'] = df_cl0['Education'].map({0:'Unknown', 1:'High school',2:'University',3:'Graduate'})\n",
      "/var/folders/mx/w4srj63j0m73hzs7xw9ngqlw0000gn/T/ipykernel_29195/2687639792.py:3: SettingWithCopyWarning: \n",
      "A value is trying to be set on a copy of a slice from a DataFrame.\n",
      "Try using .loc[row_indexer,col_indexer] = value instead\n",
      "\n",
      "See the caveats in the documentation: https://pandas.pydata.org/pandas-docs/stable/user_guide/indexing.html#returning-a-view-versus-a-copy\n",
      "  df_cl0['Occupation'] = df_cl0['Occupation'].map({0:'Unemployed', 1:'Skilled Employed',2:'Management'})\n",
      "/var/folders/mx/w4srj63j0m73hzs7xw9ngqlw0000gn/T/ipykernel_29195/2687639792.py:5: SettingWithCopyWarning: \n",
      "A value is trying to be set on a copy of a slice from a DataFrame.\n",
      "Try using .loc[row_indexer,col_indexer] = value instead\n",
      "\n",
      "See the caveats in the documentation: https://pandas.pydata.org/pandas-docs/stable/user_guide/indexing.html#returning-a-view-versus-a-copy\n",
      "  df_cl0['Settlement size'] = df_cl0['Settlement size'].map({0:'Small', 1:'Mid',2:'Big'})\n"
     ]
    },
    {
     "data": {
      "image/png": "[encoded data removed]",
      "text/plain": [
       "<Figure size 432x288 with 1 Axes>"
      ]
     },
     "metadata": {
      "needs_background": "light"
     },
     "output_type": "display_data"
    },
    {
     "data": {
      "image/png": "[encoded data removed]",
      "text/plain": [
       "<Figure size 432x288 with 1 Axes>"
      ]
     },
     "metadata": {
      "needs_background": "light"
     },
     "output_type": "display_data"
    }
   ],
   "source": [
    "df_cl0['Education'] = df_cl0['Education'].map({0:'Unknown', 1:'High school',2:'University',3:'Graduate'})\n",
    "\n",
    "df_cl0['Occupation'] = df_cl0['Occupation'].map({0:'Unemployed', 1:'Skilled Employed',2:'Management'})\n",
    "\n",
    "df_cl0['Settlement size'] = df_cl0['Settlement size'].map({0:'Small', 1:'Mid',2:'Big'})\n",
    "\n",
    "sns.countplot(x = 'Education',\n",
    "              hue = 'Occupation',\n",
    "              data = df_cl0)\n",
    "plt.title(\"Education and Occupation of customer from Cluster 0\")\n",
    "plt.show()\n",
    "\n",
    "sns.countplot(x = 'Marital status',\n",
    "              hue = 'Settlement size',\n",
    "              data = df_cl0)\n",
    "plt.title(\"Marital Status and Settlement Size of customer from Cluster 0\")\n",
    "plt.show()"
   ]
  },
  {
   "cell_type": "markdown",
   "metadata": {},
   "source": [
    "### Cluster 1"
   ]
  },
  {
   "cell_type": "code",
   "execution_count": 26,
   "metadata": {},
   "outputs": [
    {
     "data": {
      "text/html": [
       "<div>\n",
       "<style scoped>\n",
       "    .dataframe tbody tr th:only-of-type {\n",
       "        vertical-align: middle;\n",
       "    }\n",
       "\n",
       "    .dataframe tbody tr th {\n",
       "        vertical-align: top;\n",
       "    }\n",
       "\n",
       "    .dataframe thead th {\n",
       "        text-align: right;\n",
       "    }\n",
       "</style>\n",
       "<table border=\"1\" class=\"dataframe\">\n",
       "  <thead>\n",
       "    <tr style=\"text-align: right;\">\n",
       "      <th></th>\n",
       "      <th>Sex</th>\n",
       "      <th>Marital status</th>\n",
       "      <th>Age</th>\n",
       "      <th>Education</th>\n",
       "      <th>Income</th>\n",
       "      <th>Occupation</th>\n",
       "      <th>Settlement size</th>\n",
       "      <th>cluster_label</th>\n",
       "    </tr>\n",
       "  </thead>\n",
       "  <tbody>\n",
       "    <tr>\n",
       "      <th>1</th>\n",
       "      <td>1</td>\n",
       "      <td>1</td>\n",
       "      <td>22</td>\n",
       "      <td>1</td>\n",
       "      <td>150773</td>\n",
       "      <td>1</td>\n",
       "      <td>2</td>\n",
       "      <td>1</td>\n",
       "    </tr>\n",
       "    <tr>\n",
       "      <th>3</th>\n",
       "      <td>0</td>\n",
       "      <td>0</td>\n",
       "      <td>45</td>\n",
       "      <td>1</td>\n",
       "      <td>171565</td>\n",
       "      <td>1</td>\n",
       "      <td>1</td>\n",
       "      <td>1</td>\n",
       "    </tr>\n",
       "    <tr>\n",
       "      <th>4</th>\n",
       "      <td>0</td>\n",
       "      <td>0</td>\n",
       "      <td>53</td>\n",
       "      <td>1</td>\n",
       "      <td>149031</td>\n",
       "      <td>1</td>\n",
       "      <td>1</td>\n",
       "      <td>1</td>\n",
       "    </tr>\n",
       "    <tr>\n",
       "      <th>5</th>\n",
       "      <td>0</td>\n",
       "      <td>0</td>\n",
       "      <td>35</td>\n",
       "      <td>1</td>\n",
       "      <td>144848</td>\n",
       "      <td>0</td>\n",
       "      <td>0</td>\n",
       "      <td>1</td>\n",
       "    </tr>\n",
       "    <tr>\n",
       "      <th>6</th>\n",
       "      <td>0</td>\n",
       "      <td>0</td>\n",
       "      <td>53</td>\n",
       "      <td>1</td>\n",
       "      <td>156495</td>\n",
       "      <td>1</td>\n",
       "      <td>1</td>\n",
       "      <td>1</td>\n",
       "    </tr>\n",
       "    <tr>\n",
       "      <th>...</th>\n",
       "      <td>...</td>\n",
       "      <td>...</td>\n",
       "      <td>...</td>\n",
       "      <td>...</td>\n",
       "      <td>...</td>\n",
       "      <td>...</td>\n",
       "      <td>...</td>\n",
       "      <td>...</td>\n",
       "    </tr>\n",
       "    <tr>\n",
       "      <th>1550</th>\n",
       "      <td>1</td>\n",
       "      <td>1</td>\n",
       "      <td>37</td>\n",
       "      <td>1</td>\n",
       "      <td>145140</td>\n",
       "      <td>1</td>\n",
       "      <td>1</td>\n",
       "      <td>1</td>\n",
       "    </tr>\n",
       "    <tr>\n",
       "      <th>1583</th>\n",
       "      <td>1</td>\n",
       "      <td>1</td>\n",
       "      <td>31</td>\n",
       "      <td>1</td>\n",
       "      <td>138307</td>\n",
       "      <td>1</td>\n",
       "      <td>1</td>\n",
       "      <td>1</td>\n",
       "    </tr>\n",
       "    <tr>\n",
       "      <th>1592</th>\n",
       "      <td>1</td>\n",
       "      <td>1</td>\n",
       "      <td>44</td>\n",
       "      <td>2</td>\n",
       "      <td>143343</td>\n",
       "      <td>1</td>\n",
       "      <td>1</td>\n",
       "      <td>1</td>\n",
       "    </tr>\n",
       "    <tr>\n",
       "      <th>1594</th>\n",
       "      <td>1</td>\n",
       "      <td>0</td>\n",
       "      <td>33</td>\n",
       "      <td>1</td>\n",
       "      <td>138525</td>\n",
       "      <td>1</td>\n",
       "      <td>1</td>\n",
       "      <td>1</td>\n",
       "    </tr>\n",
       "    <tr>\n",
       "      <th>1598</th>\n",
       "      <td>1</td>\n",
       "      <td>1</td>\n",
       "      <td>30</td>\n",
       "      <td>1</td>\n",
       "      <td>140673</td>\n",
       "      <td>1</td>\n",
       "      <td>1</td>\n",
       "      <td>1</td>\n",
       "    </tr>\n",
       "  </tbody>\n",
       "</table>\n",
       "<p>455 rows × 8 columns</p>\n",
       "</div>"
      ],
      "text/plain": [
       "      Sex  Marital status  Age  Education  Income  Occupation  \\\n",
       "1       1               1   22          1  150773           1   \n",
       "3       0               0   45          1  171565           1   \n",
       "4       0               0   53          1  149031           1   \n",
       "5       0               0   35          1  144848           0   \n",
       "6       0               0   53          1  156495           1   \n",
       "...   ...             ...  ...        ...     ...         ...   \n",
       "1550    1               1   37          1  145140           1   \n",
       "1583    1               1   31          1  138307           1   \n",
       "1592    1               1   44          2  143343           1   \n",
       "1594    1               0   33          1  138525           1   \n",
       "1598    1               1   30          1  140673           1   \n",
       "\n",
       "      Settlement size  cluster_label  \n",
       "1                   2              1  \n",
       "3                   1              1  \n",
       "4                   1              1  \n",
       "5                   0              1  \n",
       "6                   1              1  \n",
       "...               ...            ...  \n",
       "1550                1              1  \n",
       "1583                1              1  \n",
       "1592                1              1  \n",
       "1594                1              1  \n",
       "1598                1              1  \n",
       "\n",
       "[455 rows x 8 columns]"
      ]
     },
     "execution_count": 26,
     "metadata": {},
     "output_type": "execute_result"
    }
   ],
   "source": [
    "df_cl1 = df.loc[df['cluster_label']==1]\n",
    "df_cl1"
   ]
  },
  {
   "cell_type": "code",
   "execution_count": 27,
   "metadata": {},
   "outputs": [
    {
     "name": "stderr",
     "output_type": "stream",
     "text": [
      "/Users/chaunguyen/opt/anaconda3/lib/python3.9/site-packages/seaborn/distributions.py:2619: FutureWarning: `distplot` is a deprecated function and will be removed in a future version. Please adapt your code to use either `displot` (a figure-level function with similar flexibility) or `histplot` (an axes-level function for histograms).\n",
      "  warnings.warn(msg, FutureWarning)\n",
      "/Users/chaunguyen/opt/anaconda3/lib/python3.9/site-packages/seaborn/distributions.py:2619: FutureWarning: `distplot` is a deprecated function and will be removed in a future version. Please adapt your code to use either `displot` (a figure-level function with similar flexibility) or `histplot` (an axes-level function for histograms).\n",
      "  warnings.warn(msg, FutureWarning)\n"
     ]
    },
    {
     "data": {
      "image/png": "[encoded data removed]",
      "text/plain": [
       "<Figure size 1080x432 with 2 Axes>"
      ]
     },
     "metadata": {
      "needs_background": "light"
     },
     "output_type": "display_data"
    }
   ],
   "source": [
    "plt.figure(1, figsize=(15,6))\n",
    "n= 0 \n",
    "for x in [\"Age\", \"Income\"]:\n",
    "    n+=1\n",
    "    plt.subplot(1,2,n)\n",
    "    plt.subplots_adjust(hspace = 0.5, wspace = 0.5)\n",
    "    sns.distplot(df_cl1[x], bins = 20)\n",
    "    plt.title('Distribution of {} From Cluster 1'.format(x))\n",
    "plt.show()"
   ]
  },
  {
   "cell_type": "code",
   "execution_count": 28,
   "metadata": {},
   "outputs": [
    {
     "name": "stderr",
     "output_type": "stream",
     "text": [
      "/var/folders/mx/w4srj63j0m73hzs7xw9ngqlw0000gn/T/ipykernel_29195/1722727880.py:1: SettingWithCopyWarning: \n",
      "A value is trying to be set on a copy of a slice from a DataFrame.\n",
      "Try using .loc[row_indexer,col_indexer] = value instead\n",
      "\n",
      "See the caveats in the documentation: https://pandas.pydata.org/pandas-docs/stable/user_guide/indexing.html#returning-a-view-versus-a-copy\n",
      "  df_cl1['Sex'] = df_cl1['Sex'].map({0:'MALE', 1:'FEMALE'})\n"
     ]
    },
    {
     "data": {
      "image/png": "[encoded data removed]",
      "text/plain": [
       "<Figure size 1080x432 with 1 Axes>"
      ]
     },
     "metadata": {
      "needs_background": "light"
     },
     "output_type": "display_data"
    }
   ],
   "source": [
    "df_cl1['Sex'] = df_cl1['Sex'].map({0:'MALE', 1:'FEMALE'})\n",
    "plt.figure(1, figsize=(15,6))\n",
    "sns.countplot(y='Sex', data = df_cl1)\n",
    "plt.title(\"Gender in Cluster 1\")\n",
    "plt.show()"
   ]
  },
  {
   "cell_type": "code",
   "execution_count": 29,
   "metadata": {},
   "outputs": [
    {
     "name": "stderr",
     "output_type": "stream",
     "text": [
      "/var/folders/mx/w4srj63j0m73hzs7xw9ngqlw0000gn/T/ipykernel_29195/2978176203.py:1: SettingWithCopyWarning: \n",
      "A value is trying to be set on a copy of a slice from a DataFrame.\n",
      "Try using .loc[row_indexer,col_indexer] = value instead\n",
      "\n",
      "See the caveats in the documentation: https://pandas.pydata.org/pandas-docs/stable/user_guide/indexing.html#returning-a-view-versus-a-copy\n",
      "  df_cl1['Education'] = df_cl1['Education'].map({0:'Unknown', 1:'High school',2:'University',3:'Graduate'})\n",
      "/var/folders/mx/w4srj63j0m73hzs7xw9ngqlw0000gn/T/ipykernel_29195/2978176203.py:3: SettingWithCopyWarning: \n",
      "A value is trying to be set on a copy of a slice from a DataFrame.\n",
      "Try using .loc[row_indexer,col_indexer] = value instead\n",
      "\n",
      "See the caveats in the documentation: https://pandas.pydata.org/pandas-docs/stable/user_guide/indexing.html#returning-a-view-versus-a-copy\n",
      "  df_cl1['Marital status'] = df_cl1['Marital status'].map({0:'Single', 1:'Non_single'})\n",
      "/var/folders/mx/w4srj63j0m73hzs7xw9ngqlw0000gn/T/ipykernel_29195/2978176203.py:5: SettingWithCopyWarning: \n",
      "A value is trying to be set on a copy of a slice from a DataFrame.\n",
      "Try using .loc[row_indexer,col_indexer] = value instead\n",
      "\n",
      "See the caveats in the documentation: https://pandas.pydata.org/pandas-docs/stable/user_guide/indexing.html#returning-a-view-versus-a-copy\n",
      "  df_cl1['Occupation'] = df_cl1['Occupation'].map({0:'Unemployed', 1:'Skilled Employed',2:'Management'})\n",
      "/var/folders/mx/w4srj63j0m73hzs7xw9ngqlw0000gn/T/ipykernel_29195/2978176203.py:7: SettingWithCopyWarning: \n",
      "A value is trying to be set on a copy of a slice from a DataFrame.\n",
      "Try using .loc[row_indexer,col_indexer] = value instead\n",
      "\n",
      "See the caveats in the documentation: https://pandas.pydata.org/pandas-docs/stable/user_guide/indexing.html#returning-a-view-versus-a-copy\n",
      "  df_cl1['Settlement size'] = df_cl1['Settlement size'].map({0:'Small', 1:'Mid',2:'Big'})\n"
     ]
    },
    {
     "data": {
      "image/png": "[encoded data removed]",
      "text/plain": [
       "<Figure size 432x288 with 1 Axes>"
      ]
     },
     "metadata": {
      "needs_background": "light"
     },
     "output_type": "display_data"
    },
    {
     "data": {
      "image/png": "[encoded data removed]",
      "text/plain": [
       "<Figure size 432x288 with 1 Axes>"
      ]
     },
     "metadata": {
      "needs_background": "light"
     },
     "output_type": "display_data"
    }
   ],
   "source": [
    "df_cl1['Education'] = df_cl1['Education'].map({0:'Unknown', 1:'High school',2:'University',3:'Graduate'})\n",
    "\n",
    "df_cl1['Marital status'] = df_cl1['Marital status'].map({0:'Single', 1:'Non_single'})\n",
    "\n",
    "df_cl1['Occupation'] = df_cl1['Occupation'].map({0:'Unemployed', 1:'Skilled Employed',2:'Management'})\n",
    "\n",
    "df_cl1['Settlement size'] = df_cl1['Settlement size'].map({0:'Small', 1:'Mid',2:'Big'})\n",
    "\n",
    "sns.countplot(x = 'Education',\n",
    "              hue = 'Occupation',\n",
    "              data = df_cl1)\n",
    "plt.title(\"Education and Occupation of customer from Cluster 1\")\n",
    "plt.show()\n",
    "\n",
    "sns.countplot(x = 'Marital status',\n",
    "              hue = 'Settlement size',\n",
    "              data = df_cl1)\n",
    "plt.title(\"Marital Status and Settlement Size of customer from Cluster 1\")\n",
    "plt.show()"
   ]
  },
  {
   "cell_type": "markdown",
   "metadata": {},
   "source": [
    "### Cluster 2"
   ]
  },
  {
   "cell_type": "code",
   "execution_count": 49,
   "metadata": {},
   "outputs": [
    {
     "data": {
      "text/html": [
       "<div>\n",
       "<style scoped>\n",
       "    .dataframe tbody tr th:only-of-type {\n",
       "        vertical-align: middle;\n",
       "    }\n",
       "\n",
       "    .dataframe tbody tr th {\n",
       "        vertical-align: top;\n",
       "    }\n",
       "\n",
       "    .dataframe thead th {\n",
       "        text-align: right;\n",
       "    }\n",
       "</style>\n",
       "<table border=\"1\" class=\"dataframe\">\n",
       "  <thead>\n",
       "    <tr style=\"text-align: right;\">\n",
       "      <th></th>\n",
       "      <th>Sex</th>\n",
       "      <th>Marital status</th>\n",
       "      <th>Age</th>\n",
       "      <th>Education</th>\n",
       "      <th>Income</th>\n",
       "      <th>Occupation</th>\n",
       "      <th>Settlement size</th>\n",
       "      <th>cluster_label</th>\n",
       "    </tr>\n",
       "  </thead>\n",
       "  <tbody>\n",
       "    <tr>\n",
       "      <th>7</th>\n",
       "      <td>MALE</td>\n",
       "      <td>Single</td>\n",
       "      <td>35</td>\n",
       "      <td>High school</td>\n",
       "      <td>193621</td>\n",
       "      <td>Management</td>\n",
       "      <td>Mid</td>\n",
       "      <td>2</td>\n",
       "    </tr>\n",
       "    <tr>\n",
       "      <th>18</th>\n",
       "      <td>FEMALE</td>\n",
       "      <td>Non_single</td>\n",
       "      <td>44</td>\n",
       "      <td>University</td>\n",
       "      <td>261952</td>\n",
       "      <td>Management</td>\n",
       "      <td>Big</td>\n",
       "      <td>2</td>\n",
       "    </tr>\n",
       "    <tr>\n",
       "      <th>56</th>\n",
       "      <td>MALE</td>\n",
       "      <td>Single</td>\n",
       "      <td>52</td>\n",
       "      <td>High school</td>\n",
       "      <td>202575</td>\n",
       "      <td>Management</td>\n",
       "      <td>Big</td>\n",
       "      <td>2</td>\n",
       "    </tr>\n",
       "    <tr>\n",
       "      <th>63</th>\n",
       "      <td>MALE</td>\n",
       "      <td>Single</td>\n",
       "      <td>25</td>\n",
       "      <td>Unknown</td>\n",
       "      <td>227385</td>\n",
       "      <td>Skilled Employed</td>\n",
       "      <td>Big</td>\n",
       "      <td>2</td>\n",
       "    </tr>\n",
       "    <tr>\n",
       "      <th>87</th>\n",
       "      <td>MALE</td>\n",
       "      <td>Single</td>\n",
       "      <td>47</td>\n",
       "      <td>High school</td>\n",
       "      <td>241068</td>\n",
       "      <td>Skilled Employed</td>\n",
       "      <td>Mid</td>\n",
       "      <td>2</td>\n",
       "    </tr>\n",
       "    <tr>\n",
       "      <th>...</th>\n",
       "      <td>...</td>\n",
       "      <td>...</td>\n",
       "      <td>...</td>\n",
       "      <td>...</td>\n",
       "      <td>...</td>\n",
       "      <td>...</td>\n",
       "      <td>...</td>\n",
       "      <td>...</td>\n",
       "    </tr>\n",
       "    <tr>\n",
       "      <th>1090</th>\n",
       "      <td>MALE</td>\n",
       "      <td>Single</td>\n",
       "      <td>71</td>\n",
       "      <td>University</td>\n",
       "      <td>192360</td>\n",
       "      <td>Management</td>\n",
       "      <td>Mid</td>\n",
       "      <td>2</td>\n",
       "    </tr>\n",
       "    <tr>\n",
       "      <th>1092</th>\n",
       "      <td>FEMALE</td>\n",
       "      <td>Non_single</td>\n",
       "      <td>45</td>\n",
       "      <td>University</td>\n",
       "      <td>260847</td>\n",
       "      <td>Management</td>\n",
       "      <td>Big</td>\n",
       "      <td>2</td>\n",
       "    </tr>\n",
       "    <tr>\n",
       "      <th>1093</th>\n",
       "      <td>MALE</td>\n",
       "      <td>Single</td>\n",
       "      <td>65</td>\n",
       "      <td>University</td>\n",
       "      <td>285647</td>\n",
       "      <td>Management</td>\n",
       "      <td>Big</td>\n",
       "      <td>2</td>\n",
       "    </tr>\n",
       "    <tr>\n",
       "      <th>1097</th>\n",
       "      <td>MALE</td>\n",
       "      <td>Single</td>\n",
       "      <td>57</td>\n",
       "      <td>University</td>\n",
       "      <td>281647</td>\n",
       "      <td>Management</td>\n",
       "      <td>Mid</td>\n",
       "      <td>2</td>\n",
       "    </tr>\n",
       "    <tr>\n",
       "      <th>1237</th>\n",
       "      <td>MALE</td>\n",
       "      <td>Single</td>\n",
       "      <td>60</td>\n",
       "      <td>University</td>\n",
       "      <td>193879</td>\n",
       "      <td>Skilled Employed</td>\n",
       "      <td>Mid</td>\n",
       "      <td>2</td>\n",
       "    </tr>\n",
       "  </tbody>\n",
       "</table>\n",
       "<p>105 rows × 8 columns</p>\n",
       "</div>"
      ],
      "text/plain": [
       "         Sex Marital status  Age    Education  Income        Occupation  \\\n",
       "7       MALE         Single   35  High school  193621        Management   \n",
       "18    FEMALE     Non_single   44   University  261952        Management   \n",
       "56      MALE         Single   52  High school  202575        Management   \n",
       "63      MALE         Single   25      Unknown  227385  Skilled Employed   \n",
       "87      MALE         Single   47  High school  241068  Skilled Employed   \n",
       "...      ...            ...  ...          ...     ...               ...   \n",
       "1090    MALE         Single   71   University  192360        Management   \n",
       "1092  FEMALE     Non_single   45   University  260847        Management   \n",
       "1093    MALE         Single   65   University  285647        Management   \n",
       "1097    MALE         Single   57   University  281647        Management   \n",
       "1237    MALE         Single   60   University  193879  Skilled Employed   \n",
       "\n",
       "     Settlement size  cluster_label  \n",
       "7                Mid              2  \n",
       "18               Big              2  \n",
       "56               Big              2  \n",
       "63               Big              2  \n",
       "87               Mid              2  \n",
       "...              ...            ...  \n",
       "1090             Mid              2  \n",
       "1092             Big              2  \n",
       "1093             Big              2  \n",
       "1097             Mid              2  \n",
       "1237             Mid              2  \n",
       "\n",
       "[105 rows x 8 columns]"
      ]
     },
     "execution_count": 49,
     "metadata": {},
     "output_type": "execute_result"
    }
   ],
   "source": [
    "df_cl2"
   ]
  },
  {
   "cell_type": "code",
   "execution_count": 30,
   "metadata": {},
   "outputs": [
    {
     "name": "stderr",
     "output_type": "stream",
     "text": [
      "/Users/chaunguyen/opt/anaconda3/lib/python3.9/site-packages/seaborn/distributions.py:2619: FutureWarning: `distplot` is a deprecated function and will be removed in a future version. Please adapt your code to use either `displot` (a figure-level function with similar flexibility) or `histplot` (an axes-level function for histograms).\n",
      "  warnings.warn(msg, FutureWarning)\n",
      "/Users/chaunguyen/opt/anaconda3/lib/python3.9/site-packages/seaborn/distributions.py:2619: FutureWarning: `distplot` is a deprecated function and will be removed in a future version. Please adapt your code to use either `displot` (a figure-level function with similar flexibility) or `histplot` (an axes-level function for histograms).\n",
      "  warnings.warn(msg, FutureWarning)\n"
     ]
    },
    {
     "data": {
      "image/png": "[encoded data removed]",
      "text/plain": [
       "<Figure size 1080x432 with 2 Axes>"
      ]
     },
     "metadata": {
      "needs_background": "light"
     },
     "output_type": "display_data"
    }
   ],
   "source": [
    "df_cl2 = df.loc[df['cluster_label']==2]\n",
    "\n",
    "plt.figure(1, figsize=(15,6))\n",
    "n= 0 \n",
    "for x in [\"Age\", \"Income\"]:\n",
    "    n+=1\n",
    "    plt.subplot(1,2,n)\n",
    "    plt.subplots_adjust(hspace = 0.5, wspace = 0.5)\n",
    "    sns.distplot(df_cl2[x], bins = 20)\n",
    "    plt.title('Distribution of {} From Cluster 2'.format(x))\n",
    "plt.show()"
   ]
  },
  {
   "cell_type": "code",
   "execution_count": 31,
   "metadata": {},
   "outputs": [
    {
     "name": "stderr",
     "output_type": "stream",
     "text": [
      "/var/folders/mx/w4srj63j0m73hzs7xw9ngqlw0000gn/T/ipykernel_29195/2685396187.py:1: SettingWithCopyWarning: \n",
      "A value is trying to be set on a copy of a slice from a DataFrame.\n",
      "Try using .loc[row_indexer,col_indexer] = value instead\n",
      "\n",
      "See the caveats in the documentation: https://pandas.pydata.org/pandas-docs/stable/user_guide/indexing.html#returning-a-view-versus-a-copy\n",
      "  df_cl2['Sex'] = df_cl2['Sex'].map({0:'MALE', 1:'FEMALE'})\n",
      "/var/folders/mx/w4srj63j0m73hzs7xw9ngqlw0000gn/T/ipykernel_29195/2685396187.py:3: SettingWithCopyWarning: \n",
      "A value is trying to be set on a copy of a slice from a DataFrame.\n",
      "Try using .loc[row_indexer,col_indexer] = value instead\n",
      "\n",
      "See the caveats in the documentation: https://pandas.pydata.org/pandas-docs/stable/user_guide/indexing.html#returning-a-view-versus-a-copy\n",
      "  df_cl2['Education'] = df_cl2['Education'].map({0:'Unknown', 1:'High school',2:'University',3:'Graduate'})\n",
      "/var/folders/mx/w4srj63j0m73hzs7xw9ngqlw0000gn/T/ipykernel_29195/2685396187.py:5: SettingWithCopyWarning: \n",
      "A value is trying to be set on a copy of a slice from a DataFrame.\n",
      "Try using .loc[row_indexer,col_indexer] = value instead\n",
      "\n",
      "See the caveats in the documentation: https://pandas.pydata.org/pandas-docs/stable/user_guide/indexing.html#returning-a-view-versus-a-copy\n",
      "  df_cl2['Marital status'] = df_cl2['Marital status'].map({0:'Single', 1:'Non_single'})\n",
      "/var/folders/mx/w4srj63j0m73hzs7xw9ngqlw0000gn/T/ipykernel_29195/2685396187.py:7: SettingWithCopyWarning: \n",
      "A value is trying to be set on a copy of a slice from a DataFrame.\n",
      "Try using .loc[row_indexer,col_indexer] = value instead\n",
      "\n",
      "See the caveats in the documentation: https://pandas.pydata.org/pandas-docs/stable/user_guide/indexing.html#returning-a-view-versus-a-copy\n",
      "  df_cl2['Occupation'] = df_cl2['Occupation'].map({0:'Unemployed', 1:'Skilled Employed',2:'Management'})\n",
      "/var/folders/mx/w4srj63j0m73hzs7xw9ngqlw0000gn/T/ipykernel_29195/2685396187.py:9: SettingWithCopyWarning: \n",
      "A value is trying to be set on a copy of a slice from a DataFrame.\n",
      "Try using .loc[row_indexer,col_indexer] = value instead\n",
      "\n",
      "See the caveats in the documentation: https://pandas.pydata.org/pandas-docs/stable/user_guide/indexing.html#returning-a-view-versus-a-copy\n",
      "  df_cl2['Settlement size'] = df_cl2['Settlement size'].map({0:'Small', 1:'Mid',2:'Big'})\n"
     ]
    },
    {
     "data": {
      "image/png": "[encoded data removed]",
      "text/plain": [
       "<Figure size 1080x432 with 1 Axes>"
      ]
     },
     "metadata": {
      "needs_background": "light"
     },
     "output_type": "display_data"
    },
    {
     "data": {
      "image/png": "[encoded data removed]",
      "text/plain": [
       "<Figure size 432x288 with 1 Axes>"
      ]
     },
     "metadata": {
      "needs_background": "light"
     },
     "output_type": "display_data"
    },
    {
     "data": {
      "image/png": "[encoded data removed]",
      "text/plain": [
       "<Figure size 432x288 with 1 Axes>"
      ]
     },
     "metadata": {
      "needs_background": "light"
     },
     "output_type": "display_data"
    }
   ],
   "source": [
    "df_cl2['Sex'] = df_cl2['Sex'].map({0:'MALE', 1:'FEMALE'})\n",
    "\n",
    "df_cl2['Education'] = df_cl2['Education'].map({0:'Unknown', 1:'High school',2:'University',3:'Graduate'})\n",
    "\n",
    "df_cl2['Marital status'] = df_cl2['Marital status'].map({0:'Single', 1:'Non_single'})\n",
    "\n",
    "df_cl2['Occupation'] = df_cl2['Occupation'].map({0:'Unemployed', 1:'Skilled Employed',2:'Management'})\n",
    "\n",
    "df_cl2['Settlement size'] = df_cl2['Settlement size'].map({0:'Small', 1:'Mid',2:'Big'})\n",
    "\n",
    "plt.figure(1, figsize=(15,6))\n",
    "sns.countplot(y='Sex', data = df_cl2)\n",
    "plt.title(\"Gender in Cluster 2\")\n",
    "plt.show()\n",
    "\n",
    "sns.countplot(x = 'Education',\n",
    "              hue = 'Occupation',\n",
    "              data = df_cl2)\n",
    "plt.title(\"Education and Occupation of customer from Cluster 2\")\n",
    "plt.show()\n",
    "\n",
    "sns.countplot(x = 'Marital status',\n",
    "              hue = 'Settlement size',\n",
    "              data = df_cl2)\n",
    "plt.title(\"Marital Status and Settlement Size of customer from Cluster 2\")\n",
    "plt.show()"
   ]
  },
  {
   "cell_type": "markdown",
   "metadata": {},
   "source": [
    "### cluster 3"
   ]
  },
  {
   "cell_type": "code",
   "execution_count": 32,
   "metadata": {},
   "outputs": [
    {
     "name": "stderr",
     "output_type": "stream",
     "text": [
      "/Users/chaunguyen/opt/anaconda3/lib/python3.9/site-packages/seaborn/distributions.py:2619: FutureWarning: `distplot` is a deprecated function and will be removed in a future version. Please adapt your code to use either `displot` (a figure-level function with similar flexibility) or `histplot` (an axes-level function for histograms).\n",
      "  warnings.warn(msg, FutureWarning)\n",
      "/Users/chaunguyen/opt/anaconda3/lib/python3.9/site-packages/seaborn/distributions.py:2619: FutureWarning: `distplot` is a deprecated function and will be removed in a future version. Please adapt your code to use either `displot` (a figure-level function with similar flexibility) or `histplot` (an axes-level function for histograms).\n",
      "  warnings.warn(msg, FutureWarning)\n"
     ]
    },
    {
     "data": {
      "image/png": "[encoded data removed]",
      "text/plain": [
       "<Figure size 1080x432 with 2 Axes>"
      ]
     },
     "metadata": {
      "needs_background": "light"
     },
     "output_type": "display_data"
    }
   ],
   "source": [
    "df_cl3 = df.loc[df['cluster_label']==3]\n",
    "\n",
    "plt.figure(1, figsize=(15,6))\n",
    "n= 0 \n",
    "for x in [\"Age\", \"Income\"]:\n",
    "    n+=1\n",
    "    plt.subplot(1,2,n)\n",
    "    plt.subplots_adjust(hspace = 0.5, wspace = 0.5)\n",
    "    sns.distplot(df_cl3[x], bins = 20)\n",
    "    plt.title('Distribution of {} From Cluster 3'.format(x))\n",
    "plt.show()\n"
   ]
  },
  {
   "cell_type": "code",
   "execution_count": 33,
   "metadata": {},
   "outputs": [
    {
     "name": "stderr",
     "output_type": "stream",
     "text": [
      "/var/folders/mx/w4srj63j0m73hzs7xw9ngqlw0000gn/T/ipykernel_29195/265637454.py:1: SettingWithCopyWarning: \n",
      "A value is trying to be set on a copy of a slice from a DataFrame.\n",
      "Try using .loc[row_indexer,col_indexer] = value instead\n",
      "\n",
      "See the caveats in the documentation: https://pandas.pydata.org/pandas-docs/stable/user_guide/indexing.html#returning-a-view-versus-a-copy\n",
      "  df_cl3['Sex'] = df_cl3['Sex'].map({0:'MALE', 1:'FEMALE'})\n",
      "/var/folders/mx/w4srj63j0m73hzs7xw9ngqlw0000gn/T/ipykernel_29195/265637454.py:3: SettingWithCopyWarning: \n",
      "A value is trying to be set on a copy of a slice from a DataFrame.\n",
      "Try using .loc[row_indexer,col_indexer] = value instead\n",
      "\n",
      "See the caveats in the documentation: https://pandas.pydata.org/pandas-docs/stable/user_guide/indexing.html#returning-a-view-versus-a-copy\n",
      "  df_cl3['Education'] = df_cl3['Education'].map({0:'Unknown', 1:'High school',2:'University',3:'Graduate'})\n",
      "/var/folders/mx/w4srj63j0m73hzs7xw9ngqlw0000gn/T/ipykernel_29195/265637454.py:5: SettingWithCopyWarning: \n",
      "A value is trying to be set on a copy of a slice from a DataFrame.\n",
      "Try using .loc[row_indexer,col_indexer] = value instead\n",
      "\n",
      "See the caveats in the documentation: https://pandas.pydata.org/pandas-docs/stable/user_guide/indexing.html#returning-a-view-versus-a-copy\n",
      "  df_cl3['Marital status'] = df_cl3['Marital status'].map({0:'Single', 1:'Non_single'})\n",
      "/var/folders/mx/w4srj63j0m73hzs7xw9ngqlw0000gn/T/ipykernel_29195/265637454.py:7: SettingWithCopyWarning: \n",
      "A value is trying to be set on a copy of a slice from a DataFrame.\n",
      "Try using .loc[row_indexer,col_indexer] = value instead\n",
      "\n",
      "See the caveats in the documentation: https://pandas.pydata.org/pandas-docs/stable/user_guide/indexing.html#returning-a-view-versus-a-copy\n",
      "  df_cl3['Occupation'] = df_cl3['Occupation'].map({0:'Unemployed', 1:'Skilled Employed',2:'Management'})\n",
      "/var/folders/mx/w4srj63j0m73hzs7xw9ngqlw0000gn/T/ipykernel_29195/265637454.py:9: SettingWithCopyWarning: \n",
      "A value is trying to be set on a copy of a slice from a DataFrame.\n",
      "Try using .loc[row_indexer,col_indexer] = value instead\n",
      "\n",
      "See the caveats in the documentation: https://pandas.pydata.org/pandas-docs/stable/user_guide/indexing.html#returning-a-view-versus-a-copy\n",
      "  df_cl3['Settlement size'] = df_cl3['Settlement size'].map({0:'Small', 1:'Mid',2:'Big'})\n"
     ]
    },
    {
     "data": {
      "image/png": "[encoded data removed]",
      "text/plain": [
       "<Figure size 1080x432 with 1 Axes>"
      ]
     },
     "metadata": {
      "needs_background": "light"
     },
     "output_type": "display_data"
    },
    {
     "data": {
      "image/png": "[encoded data removed]",
      "text/plain": [
       "<Figure size 432x288 with 1 Axes>"
      ]
     },
     "metadata": {
      "needs_background": "light"
     },
     "output_type": "display_data"
    },
    {
     "data": {
      "image/png": "[encoded data removed]",
      "text/plain": [
       "<Figure size 432x288 with 1 Axes>"
      ]
     },
     "metadata": {
      "needs_background": "light"
     },
     "output_type": "display_data"
    }
   ],
   "source": [
    "df_cl3['Sex'] = df_cl3['Sex'].map({0:'MALE', 1:'FEMALE'})\n",
    "\n",
    "df_cl3['Education'] = df_cl3['Education'].map({0:'Unknown', 1:'High school',2:'University',3:'Graduate'})\n",
    "\n",
    "df_cl3['Marital status'] = df_cl3['Marital status'].map({0:'Single', 1:'Non_single'})\n",
    "\n",
    "df_cl3['Occupation'] = df_cl3['Occupation'].map({0:'Unemployed', 1:'Skilled Employed',2:'Management'})\n",
    "\n",
    "df_cl3['Settlement size'] = df_cl3['Settlement size'].map({0:'Small', 1:'Mid',2:'Big'})\n",
    "\n",
    "plt.figure(1, figsize=(15,6))\n",
    "sns.countplot(y='Sex', data = df_cl3)\n",
    "plt.title(\"Gender in Cluster 3\")\n",
    "plt.show()\n",
    "\n",
    "sns.countplot(x = 'Education',\n",
    "              hue = 'Occupation',\n",
    "              data = df_cl3)\n",
    "plt.title(\"Education and Occupation of customer from Cluster 3\")\n",
    "plt.show()\n",
    "\n",
    "sns.countplot(x = 'Marital status',\n",
    "              hue = 'Settlement size',\n",
    "              data = df_cl3)\n",
    "plt.title(\"Marital Status and Settlement Size of customer from Cluster 3\")\n",
    "plt.show()"
   ]
  },
  {
   "cell_type": "markdown",
   "metadata": {},
   "source": [
    "# Grouping Clusters in Bottom-Up (Agglomerative) Fashion"
   ]
  },
  {
   "cell_type": "code",
   "execution_count": 34,
   "metadata": {},
   "outputs": [
    {
     "data": {
      "text/html": [
       "<div>\n",
       "<style scoped>\n",
       "    .dataframe tbody tr th:only-of-type {\n",
       "        vertical-align: middle;\n",
       "    }\n",
       "\n",
       "    .dataframe tbody tr th {\n",
       "        vertical-align: top;\n",
       "    }\n",
       "\n",
       "    .dataframe thead th {\n",
       "        text-align: right;\n",
       "    }\n",
       "</style>\n",
       "<table border=\"1\" class=\"dataframe\">\n",
       "  <thead>\n",
       "    <tr style=\"text-align: right;\">\n",
       "      <th></th>\n",
       "      <th>row label 1</th>\n",
       "      <th>row label 2</th>\n",
       "      <th>distance</th>\n",
       "      <th>no. of items in clust.</th>\n",
       "    </tr>\n",
       "  </thead>\n",
       "  <tbody>\n",
       "    <tr>\n",
       "      <th>cluster 1</th>\n",
       "      <td>389.0</td>\n",
       "      <td>1493.0</td>\n",
       "      <td>1.000000</td>\n",
       "      <td>2.0</td>\n",
       "    </tr>\n",
       "    <tr>\n",
       "      <th>cluster 2</th>\n",
       "      <td>495.0</td>\n",
       "      <td>1344.0</td>\n",
       "      <td>1.732051</td>\n",
       "      <td>2.0</td>\n",
       "    </tr>\n",
       "    <tr>\n",
       "      <th>cluster 3</th>\n",
       "      <td>473.0</td>\n",
       "      <td>1159.0</td>\n",
       "      <td>2.000000</td>\n",
       "      <td>2.0</td>\n",
       "    </tr>\n",
       "    <tr>\n",
       "      <th>cluster 4</th>\n",
       "      <td>1654.0</td>\n",
       "      <td>1889.0</td>\n",
       "      <td>2.000000</td>\n",
       "      <td>2.0</td>\n",
       "    </tr>\n",
       "    <tr>\n",
       "      <th>cluster 5</th>\n",
       "      <td>946.0</td>\n",
       "      <td>1181.0</td>\n",
       "      <td>2.000000</td>\n",
       "      <td>2.0</td>\n",
       "    </tr>\n",
       "    <tr>\n",
       "      <th>...</th>\n",
       "      <td>...</td>\n",
       "      <td>...</td>\n",
       "      <td>...</td>\n",
       "      <td>...</td>\n",
       "    </tr>\n",
       "    <tr>\n",
       "      <th>cluster 1995</th>\n",
       "      <td>3987.0</td>\n",
       "      <td>3988.0</td>\n",
       "      <td>66418.000105</td>\n",
       "      <td>603.0</td>\n",
       "    </tr>\n",
       "    <tr>\n",
       "      <th>cluster 1996</th>\n",
       "      <td>3990.0</td>\n",
       "      <td>3992.0</td>\n",
       "      <td>96031.001187</td>\n",
       "      <td>60.0</td>\n",
       "    </tr>\n",
       "    <tr>\n",
       "      <th>cluster 1997</th>\n",
       "      <td>3991.0</td>\n",
       "      <td>3993.0</td>\n",
       "      <td>109646.004118</td>\n",
       "      <td>1337.0</td>\n",
       "    </tr>\n",
       "    <tr>\n",
       "      <th>cluster 1998</th>\n",
       "      <td>3994.0</td>\n",
       "      <td>3996.0</td>\n",
       "      <td>176188.003119</td>\n",
       "      <td>1940.0</td>\n",
       "    </tr>\n",
       "    <tr>\n",
       "      <th>cluster 1999</th>\n",
       "      <td>3995.0</td>\n",
       "      <td>3997.0</td>\n",
       "      <td>273532.002014</td>\n",
       "      <td>2000.0</td>\n",
       "    </tr>\n",
       "  </tbody>\n",
       "</table>\n",
       "<p>1999 rows × 4 columns</p>\n",
       "</div>"
      ],
      "text/plain": [
       "              row label 1  row label 2       distance  no. of items in clust.\n",
       "cluster 1           389.0       1493.0       1.000000                     2.0\n",
       "cluster 2           495.0       1344.0       1.732051                     2.0\n",
       "cluster 3           473.0       1159.0       2.000000                     2.0\n",
       "cluster 4          1654.0       1889.0       2.000000                     2.0\n",
       "cluster 5           946.0       1181.0       2.000000                     2.0\n",
       "...                   ...          ...            ...                     ...\n",
       "cluster 1995       3987.0       3988.0   66418.000105                   603.0\n",
       "cluster 1996       3990.0       3992.0   96031.001187                    60.0\n",
       "cluster 1997       3991.0       3993.0  109646.004118                  1337.0\n",
       "cluster 1998       3994.0       3996.0  176188.003119                  1940.0\n",
       "cluster 1999       3995.0       3997.0  273532.002014                  2000.0\n",
       "\n",
       "[1999 rows x 4 columns]"
      ]
     },
     "execution_count": 34,
     "metadata": {},
     "output_type": "execute_result"
    }
   ],
   "source": [
    "from scipy.cluster.hierarchy import linkage\n",
    "from scipy.spatial.distance import pdist \n",
    "\n",
    "row_clusters = linkage(pdist(df, metric='euclidean'), method='complete')\n",
    "pd.DataFrame(row_clusters,\n",
    "             columns=['row label 1', 'row label 2',\n",
    "                      'distance', 'no. of items in clust.'],\n",
    "             index=[f'cluster {i + 1}' for i in range(row_clusters.shape[0])])"
   ]
  },
  {
   "cell_type": "code",
   "execution_count": 35,
   "metadata": {
    "scrolled": false
   },
   "outputs": [
    {
     "data": {
      "image/png": "[encoded data removed]",
      "text/plain": [
       "<Figure size 1080x504 with 1 Axes>"
      ]
     },
     "metadata": {
      "needs_background": "light"
     },
     "output_type": "display_data"
    }
   ],
   "source": [
    "from scipy.cluster.hierarchy import linkage, dendrogram, cut_tree\n",
    "plt.figure(figsize=(15,7))\n",
    "dendrogram(row_clusters)\n",
    "plt.show()"
   ]
  },
  {
   "cell_type": "markdown",
   "metadata": {},
   "source": [
    "As shown in the dendrogram there are 4 signnificant clusters. "
   ]
  },
  {
   "cell_type": "code",
   "execution_count": 36,
   "metadata": {},
   "outputs": [
    {
     "data": {
      "text/plain": [
       "array([3, 2, 1, ..., 1, 1, 1])"
      ]
     },
     "execution_count": 36,
     "metadata": {},
     "output_type": "execute_result"
    }
   ],
   "source": [
    "from sklearn.cluster import AgglomerativeClustering\n",
    "hc = AgglomerativeClustering(n_clusters=4,affinity ='euclidean', linkage='ward')\n",
    "Y_hc = hc.fit_predict(X1)\n",
    "Y_hc"
   ]
  },
  {
   "cell_type": "code",
   "execution_count": 37,
   "metadata": {},
   "outputs": [
    {
     "name": "stdout",
     "output_type": "stream",
     "text": [
      "[3 2 1 2 2 2 2 0 2 2 3 3 3 1 3 1 3 2 0 2 3 2 1 2 3 1 1 2 3 2 2 3 2 1 2 3 2\n",
      " 3 3 1 2 3 2 2 2 2 2 1 3 3 1 2 1 3 2 1 0 2 2 3 3 3 2 0 3 2 3 2 3 3 2 1 2 2\n",
      " 2 2 3 2 2 3 2 2 1 1 1 2 3 0 2 1 3 3 1 3 2 0 2 2 3 0 1 3 1 3 3 0 2 2 2 2 3\n",
      " 3 3 2 2 3 0 3 2 2 3 2 1 2 3 3 1 1 2 3 2 2 1 3 0 3 0 3 3 3 1 2 2 3 3 2 3 3\n",
      " 2 2 3 3 2 0 0 1 3 1 2 1 3 3 3 0 3 2 3 2 3 3 1 1 2 3 3 0 3 3 2 3 2 2 1 2 3\n",
      " 1 0 1 1 2 0 3 2 3 3 2 3 3 3 2 2 1 3 1 1 0 3 3 3 2 3 3 2 2 2 1 3 2 1 3 1 1\n",
      " 1 3 3 3 0 0 1 3 2 3 3 1 1 3 2 3 3 3 1 3 3 1 3 1 3 3 3 1 3 3 3 2 3 3 1 3 2\n",
      " 3 1 3 2 3 1 3 2 3 0 1 3 2 0 3 2 3 3 1 2 2 2 3 3 3 2 2 3 0 3 3 1 0 0 2 0 0\n",
      " 3 1 3 2 1 2 1 3 0 2 3 1 3 1 1 2 2 1 1 3 1 3 1 1 2 3 2 2 3 1 2 2 2 3 0 3 0\n",
      " 2 3 2 1 1 3 1 2 1 2 2 3 1 1 1 1 2 1 3 2 2 3 1 3 2 1 3 3 2 2 1 1 3 3 3 3 2\n",
      " 3 2 3 0 0 2 3 1 0 1 3 0 1 3 3 3 1 0 2 3 2 3 2 3 2 0 2 3 3 3 3 3 2 1 3 3 3\n",
      " 1 2 2 3 0 2 3 3 2 1 2 2 3 2 3 1 2 3 3 3 2 1 1 3 0 2 3 3 3 1 2 1 1 2 3 3 1\n",
      " 2 1 3 3 2 2 0 1 3 2 3 2 3 3 1 3 3 3 2 3 3 2 1 2 3 3 2 1 1 3 3 3 3 2 1 3 1\n",
      " 3 0 2 2 2 3 2 1 3 1 0 3 3 1 3 0 3 1 3 3 2 2 3 1 1 2 0 1 0 1 2 3 1 3 3 1 2\n",
      " 3 1 2 3 2 2 1 2 3 1 3 1 3 2 3 3 3 3 2 2 0 3 3 3 2 3 1 3 3 3 1 2 1 3 2 3 2\n",
      " 1 2 2 3 1 3 1 3 0 2 3 3 2 2 2 1 2 2 1 1 3 3 3 3 1 3 3 3 1 2 3 3 1 1 3 1 3\n",
      " 3 1 2 1 1 3 3 3 2 3 1 2 3 3 0 2 3 3 3 3 2 3 3 0 0 3 2 1 3 1 3 3 2 3 3 3 2\n",
      " 3 3 3 3 3 1 3 3 0 3 3 1 1 2 3 2 2 2 3 3 1 0 1 3 0 3 3 1 0 2 2 3 1 3 2 3 2\n",
      " 2 3 2 2 3 2 0 3 3 2 2 2 3 3 3 3 3 2 2 2 3 2 3 2 1 3 2 3 3 2 3 1 1 2 1 2 2\n",
      " 2 3 2 2 3 3 1 2 3 2 1 0 2 3 3 2 2 2 2 1 2 3 3 3 3 2 2 2 1 1 2 3 1 0 3 0 3\n",
      " 3 1 3 3 0 1 3 1 3 3 3 1 1 2 2 3 1 3 1 1 2 3 1 0 3 1 1 3 3 1 3 0 2 2 3 1 3\n",
      " 3 0 2 2 2 1 1 0 3 2 3 2 2 3 2 1 2 2 3 2 1 3 1 3 3 3 1 3 2 1 3 0 1 3 1 2 2\n",
      " 2 0 2 3 0 1 1 3 3 1 2 3 3 3 2 2 2 1 0 2 1 3 1 1 2 3 2 1 3 3 3 2 2 1 3 1 3\n",
      " 2 3 1 0 3 3 3 3 3 2 3 3 2 1 3 3 3 2 1 0 3 3 1 1 2 2 3 3 2 0 0 3 1 2 3 3 0\n",
      " 2 2 2 3 1 2 1 0 2 2 1 2 3 3 0 3 3 3 1 3 3 3 2 3 3 2 3 0 3 0 3 2 3 0 1 3 2\n",
      " 3 1 0 3 1 1 3 1 3 1 2 1 2 2 0 2 1 1 1 3 0 2 2 1 2 1 1 2 0 3 0 3 1 3 2 3 2\n",
      " 3 2 1 3 3 2 2 1 3 2 1 2 3 2 2 3 1 3 0 2 2 2 1 3 2 2 2 1 1 1 1 2 3 1 2 1 1\n",
      " 2 2 2 0 0 1 0 2 2 3 2 3 2 0 2 2 2 3 2 2 0 2 2 0 2 2 0 2 0 0 0 2 2 3 0 2 2\n",
      " 2 0 2 3 2 0 2 0 3 3 2 2 2 2 2 2 0 3 2 2 3 2 0 2 0 2 0 2 2 0 3 3 2 2 2 2 2\n",
      " 0 0 1 0 2 2 3 2 3 2 0 2 2 2 3 2 2 0 2 0 0 2 3 3 0 2 2 1 3 3 2 3 2 2 3 1 3\n",
      " 2 2 3 1 2 3 2 2 3 3 2 3 2 2 1 3 2 2 2 2 2 2 3 3 3 3 3 2 3 2 3 3 2 3 2 2 2\n",
      " 2 3 2 2 3 3 3 2 2 1 2 2 3 1 2 2 2 3 2 2 2 2 2 2 3 2 2 3 2 3 3 2 2 3 2 2 3\n",
      " 3 2 2 1 2 3 2 3 2 3 1 2 2 3 3 2 2 3 3 1 2 3 2 3 3 2 2 3 3 2 2 2 3 3 2 2 2\n",
      " 1 2 3 3 3 3 2 1 2 3 3 2 3 3 2 3 0 2 3 3 2 3 3 3 3 1 3 3 3 3 2 2 3 2 2 3 3\n",
      " 1 2 2 3 2 3 2 3 2 2 3 3 3 2 3 3 2 2 2 3 2 1 3 2 3 2 3 2 2 3 3 3 2 1 3 3 2\n",
      " 3 2 2 3 3 1 3 1 3 2 3 2 1 1 3 1 3 1 3 1 1 2 3 1 3 3 3 2 1 1 3 3 1 1 3 2 2\n",
      " 3 3 1 3 3 1 1 1 3 3 3 2 3 3 1 3 3 3 1 3 3 3 1 3 3 3 1 3 2 3 1 3 1 3 2 1 1\n",
      " 1 3 2 1 1 1 1 3 3 1 3 3 1 3 3 3 3 3 3 1 3 1 3 1 2 3 3 1 2 3 1 3 3 2 3 3 3\n",
      " 1 3 1 3 1 3 3 2 1 2 3 3 1 2 3 1 1 1 3 3 2 1 3 3 2 2 1 1 3 1 3 3 1 3 3 3 1\n",
      " 3 1 3 1 3 3 3 3 2 3 1 3 2 2 1 1 3 1 3 2 1 2 2 3 3 3 3 1 3 3 1 1 1 1 3 3 1\n",
      " 3 3 3 2 3 2 3 1 3 1 3 1 3 3 3 2 3 3 3 3 3 2 1 1 3 3 1 1 3 2 2 3 3 1 3 3 1\n",
      " 1 1 3 3 3 2 3 1 1 3 3 3 1 1 2 2 1 3 3 3 1 3 2 3 1 3 1 3 2 1 1 1 3 2 1 1 1\n",
      " 1 3 3 1 3 1 1 3 3 3 3 3 3 3 3 1 1 1 3 3 3 1 3 3 1 3 3 3 3 2 3 1 3 1 3 1 3\n",
      " 3 2 3 2 3 3 1 2 3 1 3 3 1 3 1 1 1 3 1 3 1 3 1 1 3 3 1 3 1 1 1 1 3 1 1 1 1\n",
      " 3 3 1 3 3 1 1 1 3 3 1 1 1 3 1 1 1 3 1 1 3 1 1 3 3 3 1 3 1 1 1 1 3 1 3 1 3\n",
      " 3 3 3 1 1 1 1 1 3 1 1 1 1 1 3 1 3 1 3 3 3 1 3 3 3 1 3 1 1 1 1 3 1 3 3 1 1\n",
      " 3 3 1 3 1 1 1 3 1 1 1 1 1 3 1 3 3 3 3 3 1 3 1 1 1 3 1 1 3 3 2 3 3 3 1 3 3\n",
      " 1 3 3 1 3 3 3 1 1 1 1 3 1 3 1 3 3 3 3 3 1 1 1 1 1 3 3 1 1 1 3 3 1 1 3 1 1\n",
      " 1 3 1 1 3 1 3 3 3 1 1 1 1 1 1 1 1 3 3 1 1 1 3 1 1 3 1 1 1 3 3 1 1 3 3 1 1\n",
      " 3 1 3 1 3 3 3 1 1 3 1 1 3 1 3 1 3 1 1 3 3 3 1 1 3 1 1 3 3 3 1 1 3 3 1 3 1\n",
      " 3 1 3 3 1 3 1 1 1 3 1 3 1 3 1 1 3 3 1 3 1 1 1 1 3 1 1 1 1 3 3 1 3 3 1 1 1\n",
      " 3 3 1 1 1 3 1 1 1 3 1 1 3 1 1 3 3 3 1 3 1 1 1 1 3 3 3 1 3 3 3 3 1 1 1 1 1\n",
      " 3 1 1 1 1 1 3 1 3 1 1 3 3 1 3 3 3 1 3 1 1 1 1 3 1 3 3 1 1 3 3 1 3 1 1 1 3\n",
      " 1 3 1 1 1 3 1 3 1 3 3 3 1 3 1 1 1 3 3 1 3 3 3 3 3 3 1 3 3 1 3 3 1 3 3 3 1\n",
      " 1 1]\n"
     ]
    }
   ],
   "source": [
    "import sys\n",
    "import numpy as np\n",
    "np.set_printoptions(threshold=sys.maxsize)\n",
    "print(Y_hc)"
   ]
  },
  {
   "cell_type": "code",
   "execution_count": 38,
   "metadata": {},
   "outputs": [
    {
     "data": {
      "text/html": [
       "<div>\n",
       "<style scoped>\n",
       "    .dataframe tbody tr th:only-of-type {\n",
       "        vertical-align: middle;\n",
       "    }\n",
       "\n",
       "    .dataframe tbody tr th {\n",
       "        vertical-align: top;\n",
       "    }\n",
       "\n",
       "    .dataframe thead th {\n",
       "        text-align: right;\n",
       "    }\n",
       "</style>\n",
       "<table border=\"1\" class=\"dataframe\">\n",
       "  <thead>\n",
       "    <tr style=\"text-align: right;\">\n",
       "      <th></th>\n",
       "      <th>Sex</th>\n",
       "      <th>Marital status</th>\n",
       "      <th>Age</th>\n",
       "      <th>Education</th>\n",
       "      <th>Income</th>\n",
       "      <th>Occupation</th>\n",
       "      <th>Settlement size</th>\n",
       "      <th>cluster_label</th>\n",
       "      <th>hierarchy_label</th>\n",
       "    </tr>\n",
       "  </thead>\n",
       "  <tbody>\n",
       "    <tr>\n",
       "      <th>0</th>\n",
       "      <td>0</td>\n",
       "      <td>0</td>\n",
       "      <td>67</td>\n",
       "      <td>2</td>\n",
       "      <td>124670</td>\n",
       "      <td>1</td>\n",
       "      <td>2</td>\n",
       "      <td>3</td>\n",
       "      <td>3</td>\n",
       "    </tr>\n",
       "    <tr>\n",
       "      <th>1</th>\n",
       "      <td>1</td>\n",
       "      <td>1</td>\n",
       "      <td>22</td>\n",
       "      <td>1</td>\n",
       "      <td>150773</td>\n",
       "      <td>1</td>\n",
       "      <td>2</td>\n",
       "      <td>1</td>\n",
       "      <td>2</td>\n",
       "    </tr>\n",
       "    <tr>\n",
       "      <th>2</th>\n",
       "      <td>0</td>\n",
       "      <td>0</td>\n",
       "      <td>49</td>\n",
       "      <td>1</td>\n",
       "      <td>89210</td>\n",
       "      <td>0</td>\n",
       "      <td>0</td>\n",
       "      <td>0</td>\n",
       "      <td>1</td>\n",
       "    </tr>\n",
       "    <tr>\n",
       "      <th>3</th>\n",
       "      <td>0</td>\n",
       "      <td>0</td>\n",
       "      <td>45</td>\n",
       "      <td>1</td>\n",
       "      <td>171565</td>\n",
       "      <td>1</td>\n",
       "      <td>1</td>\n",
       "      <td>1</td>\n",
       "      <td>2</td>\n",
       "    </tr>\n",
       "    <tr>\n",
       "      <th>4</th>\n",
       "      <td>0</td>\n",
       "      <td>0</td>\n",
       "      <td>53</td>\n",
       "      <td>1</td>\n",
       "      <td>149031</td>\n",
       "      <td>1</td>\n",
       "      <td>1</td>\n",
       "      <td>1</td>\n",
       "      <td>2</td>\n",
       "    </tr>\n",
       "    <tr>\n",
       "      <th>...</th>\n",
       "      <td>...</td>\n",
       "      <td>...</td>\n",
       "      <td>...</td>\n",
       "      <td>...</td>\n",
       "      <td>...</td>\n",
       "      <td>...</td>\n",
       "      <td>...</td>\n",
       "      <td>...</td>\n",
       "      <td>...</td>\n",
       "    </tr>\n",
       "    <tr>\n",
       "      <th>1995</th>\n",
       "      <td>1</td>\n",
       "      <td>0</td>\n",
       "      <td>47</td>\n",
       "      <td>1</td>\n",
       "      <td>123525</td>\n",
       "      <td>0</td>\n",
       "      <td>0</td>\n",
       "      <td>3</td>\n",
       "      <td>3</td>\n",
       "    </tr>\n",
       "    <tr>\n",
       "      <th>1996</th>\n",
       "      <td>1</td>\n",
       "      <td>1</td>\n",
       "      <td>27</td>\n",
       "      <td>1</td>\n",
       "      <td>117744</td>\n",
       "      <td>1</td>\n",
       "      <td>0</td>\n",
       "      <td>3</td>\n",
       "      <td>3</td>\n",
       "    </tr>\n",
       "    <tr>\n",
       "      <th>1997</th>\n",
       "      <td>0</td>\n",
       "      <td>0</td>\n",
       "      <td>31</td>\n",
       "      <td>0</td>\n",
       "      <td>86400</td>\n",
       "      <td>0</td>\n",
       "      <td>0</td>\n",
       "      <td>0</td>\n",
       "      <td>1</td>\n",
       "    </tr>\n",
       "    <tr>\n",
       "      <th>1998</th>\n",
       "      <td>1</td>\n",
       "      <td>1</td>\n",
       "      <td>24</td>\n",
       "      <td>1</td>\n",
       "      <td>97968</td>\n",
       "      <td>0</td>\n",
       "      <td>0</td>\n",
       "      <td>3</td>\n",
       "      <td>1</td>\n",
       "    </tr>\n",
       "    <tr>\n",
       "      <th>1999</th>\n",
       "      <td>0</td>\n",
       "      <td>0</td>\n",
       "      <td>25</td>\n",
       "      <td>0</td>\n",
       "      <td>68416</td>\n",
       "      <td>0</td>\n",
       "      <td>0</td>\n",
       "      <td>0</td>\n",
       "      <td>1</td>\n",
       "    </tr>\n",
       "  </tbody>\n",
       "</table>\n",
       "<p>2000 rows × 9 columns</p>\n",
       "</div>"
      ],
      "text/plain": [
       "      Sex  Marital status  Age  Education  Income  Occupation  \\\n",
       "0       0               0   67          2  124670           1   \n",
       "1       1               1   22          1  150773           1   \n",
       "2       0               0   49          1   89210           0   \n",
       "3       0               0   45          1  171565           1   \n",
       "4       0               0   53          1  149031           1   \n",
       "...   ...             ...  ...        ...     ...         ...   \n",
       "1995    1               0   47          1  123525           0   \n",
       "1996    1               1   27          1  117744           1   \n",
       "1997    0               0   31          0   86400           0   \n",
       "1998    1               1   24          1   97968           0   \n",
       "1999    0               0   25          0   68416           0   \n",
       "\n",
       "      Settlement size  cluster_label  hierarchy_label  \n",
       "0                   2              3                3  \n",
       "1                   2              1                2  \n",
       "2                   0              0                1  \n",
       "3                   1              1                2  \n",
       "4                   1              1                2  \n",
       "...               ...            ...              ...  \n",
       "1995                0              3                3  \n",
       "1996                0              3                3  \n",
       "1997                0              0                1  \n",
       "1998                0              3                1  \n",
       "1999                0              0                1  \n",
       "\n",
       "[2000 rows x 9 columns]"
      ]
     },
     "execution_count": 38,
     "metadata": {},
     "output_type": "execute_result"
    }
   ],
   "source": [
    "df['hierarchy_label'] = Y_hc\n",
    "df"
   ]
  },
  {
   "cell_type": "markdown",
   "metadata": {},
   "source": [
    "### cluster 0"
   ]
  },
  {
   "cell_type": "code",
   "execution_count": 39,
   "metadata": {},
   "outputs": [
    {
     "data": {
      "text/html": [
       "<div>\n",
       "<style scoped>\n",
       "    .dataframe tbody tr th:only-of-type {\n",
       "        vertical-align: middle;\n",
       "    }\n",
       "\n",
       "    .dataframe tbody tr th {\n",
       "        vertical-align: top;\n",
       "    }\n",
       "\n",
       "    .dataframe thead th {\n",
       "        text-align: right;\n",
       "    }\n",
       "</style>\n",
       "<table border=\"1\" class=\"dataframe\">\n",
       "  <thead>\n",
       "    <tr style=\"text-align: right;\">\n",
       "      <th></th>\n",
       "      <th>Sex</th>\n",
       "      <th>Marital status</th>\n",
       "      <th>Age</th>\n",
       "      <th>Education</th>\n",
       "      <th>Income</th>\n",
       "      <th>Occupation</th>\n",
       "      <th>Settlement size</th>\n",
       "      <th>cluster_label</th>\n",
       "      <th>hierarchy_label</th>\n",
       "    </tr>\n",
       "  </thead>\n",
       "  <tbody>\n",
       "    <tr>\n",
       "      <th>7</th>\n",
       "      <td>0</td>\n",
       "      <td>0</td>\n",
       "      <td>35</td>\n",
       "      <td>1</td>\n",
       "      <td>193621</td>\n",
       "      <td>2</td>\n",
       "      <td>1</td>\n",
       "      <td>2</td>\n",
       "      <td>0</td>\n",
       "    </tr>\n",
       "    <tr>\n",
       "      <th>18</th>\n",
       "      <td>1</td>\n",
       "      <td>1</td>\n",
       "      <td>44</td>\n",
       "      <td>2</td>\n",
       "      <td>261952</td>\n",
       "      <td>2</td>\n",
       "      <td>2</td>\n",
       "      <td>2</td>\n",
       "      <td>0</td>\n",
       "    </tr>\n",
       "    <tr>\n",
       "      <th>56</th>\n",
       "      <td>0</td>\n",
       "      <td>0</td>\n",
       "      <td>52</td>\n",
       "      <td>1</td>\n",
       "      <td>202575</td>\n",
       "      <td>2</td>\n",
       "      <td>2</td>\n",
       "      <td>2</td>\n",
       "      <td>0</td>\n",
       "    </tr>\n",
       "    <tr>\n",
       "      <th>63</th>\n",
       "      <td>0</td>\n",
       "      <td>0</td>\n",
       "      <td>25</td>\n",
       "      <td>0</td>\n",
       "      <td>227385</td>\n",
       "      <td>1</td>\n",
       "      <td>2</td>\n",
       "      <td>2</td>\n",
       "      <td>0</td>\n",
       "    </tr>\n",
       "    <tr>\n",
       "      <th>87</th>\n",
       "      <td>0</td>\n",
       "      <td>0</td>\n",
       "      <td>47</td>\n",
       "      <td>1</td>\n",
       "      <td>241068</td>\n",
       "      <td>1</td>\n",
       "      <td>1</td>\n",
       "      <td>2</td>\n",
       "      <td>0</td>\n",
       "    </tr>\n",
       "    <tr>\n",
       "      <th>...</th>\n",
       "      <td>...</td>\n",
       "      <td>...</td>\n",
       "      <td>...</td>\n",
       "      <td>...</td>\n",
       "      <td>...</td>\n",
       "      <td>...</td>\n",
       "      <td>...</td>\n",
       "      <td>...</td>\n",
       "      <td>...</td>\n",
       "    </tr>\n",
       "    <tr>\n",
       "      <th>1090</th>\n",
       "      <td>0</td>\n",
       "      <td>0</td>\n",
       "      <td>71</td>\n",
       "      <td>2</td>\n",
       "      <td>192360</td>\n",
       "      <td>2</td>\n",
       "      <td>1</td>\n",
       "      <td>2</td>\n",
       "      <td>0</td>\n",
       "    </tr>\n",
       "    <tr>\n",
       "      <th>1092</th>\n",
       "      <td>1</td>\n",
       "      <td>1</td>\n",
       "      <td>45</td>\n",
       "      <td>2</td>\n",
       "      <td>260847</td>\n",
       "      <td>2</td>\n",
       "      <td>2</td>\n",
       "      <td>2</td>\n",
       "      <td>0</td>\n",
       "    </tr>\n",
       "    <tr>\n",
       "      <th>1093</th>\n",
       "      <td>0</td>\n",
       "      <td>0</td>\n",
       "      <td>65</td>\n",
       "      <td>2</td>\n",
       "      <td>285647</td>\n",
       "      <td>2</td>\n",
       "      <td>2</td>\n",
       "      <td>2</td>\n",
       "      <td>0</td>\n",
       "    </tr>\n",
       "    <tr>\n",
       "      <th>1097</th>\n",
       "      <td>0</td>\n",
       "      <td>0</td>\n",
       "      <td>57</td>\n",
       "      <td>2</td>\n",
       "      <td>281647</td>\n",
       "      <td>2</td>\n",
       "      <td>1</td>\n",
       "      <td>2</td>\n",
       "      <td>0</td>\n",
       "    </tr>\n",
       "    <tr>\n",
       "      <th>1237</th>\n",
       "      <td>0</td>\n",
       "      <td>0</td>\n",
       "      <td>60</td>\n",
       "      <td>2</td>\n",
       "      <td>193879</td>\n",
       "      <td>1</td>\n",
       "      <td>1</td>\n",
       "      <td>2</td>\n",
       "      <td>0</td>\n",
       "    </tr>\n",
       "  </tbody>\n",
       "</table>\n",
       "<p>110 rows × 9 columns</p>\n",
       "</div>"
      ],
      "text/plain": [
       "      Sex  Marital status  Age  Education  Income  Occupation  \\\n",
       "7       0               0   35          1  193621           2   \n",
       "18      1               1   44          2  261952           2   \n",
       "56      0               0   52          1  202575           2   \n",
       "63      0               0   25          0  227385           1   \n",
       "87      0               0   47          1  241068           1   \n",
       "...   ...             ...  ...        ...     ...         ...   \n",
       "1090    0               0   71          2  192360           2   \n",
       "1092    1               1   45          2  260847           2   \n",
       "1093    0               0   65          2  285647           2   \n",
       "1097    0               0   57          2  281647           2   \n",
       "1237    0               0   60          2  193879           1   \n",
       "\n",
       "      Settlement size  cluster_label  hierarchy_label  \n",
       "7                   1              2                0  \n",
       "18                  2              2                0  \n",
       "56                  2              2                0  \n",
       "63                  2              2                0  \n",
       "87                  1              2                0  \n",
       "...               ...            ...              ...  \n",
       "1090                1              2                0  \n",
       "1092                2              2                0  \n",
       "1093                2              2                0  \n",
       "1097                1              2                0  \n",
       "1237                1              2                0  \n",
       "\n",
       "[110 rows x 9 columns]"
      ]
     },
     "execution_count": 39,
     "metadata": {},
     "output_type": "execute_result"
    }
   ],
   "source": [
    "df_hc0 = df.loc[df['hierarchy_label']==0]\n",
    "df_hc0"
   ]
  },
  {
   "cell_type": "code",
   "execution_count": 40,
   "metadata": {},
   "outputs": [
    {
     "name": "stdout",
     "output_type": "stream",
     "text": [
      "Number of Male Customers: 32 customers\n",
      "Number of Female Customers: 78 customers\n",
      "-----------------------------------\n",
      "Number of Unemployed Customers: 0 customers\n",
      "Number of Skilled Employed Customers: 28 customers\n",
      "Number of Managament Customers: 82 customers\n",
      "-----------------------------------\n",
      "Number of Single Customers: 66 customers\n",
      "Number of Non-single Customers: 44 customers\n",
      "-----------------------------------\n",
      "Unknown education : 16 customers\n",
      "Highschool level : 44 customers\n",
      "University level: 46 customers\n",
      "Graduate: 46 customers\n",
      "-----------------------------------\n",
      "Customers live in small city: 8 customers\n",
      "Customers live in Mid-size city: 44 customers\n",
      "Customers live in Big city: 44 customers\n"
     ]
    }
   ],
   "source": [
    "print('Number of Male Customers:',len(df_hc0[df_hc0.Sex== 1]),'customers')\n",
    "print('Number of Female Customers:', len(df_hc0[df_hc0.Sex== 0]),'customers')\n",
    "print('-----------------------------------')\n",
    "\n",
    "print('Number of Unemployed Customers:',len(df_hc0[df_hc0.Occupation == 0]),'customers')\n",
    "print('Number of Skilled Employed Customers:', len(df_hc0[df_hc0.Occupation == 1]),'customers')\n",
    "print('Number of Managament Customers:', len(df_hc0[df_hc0.Occupation == 2]),'customers')\n",
    "\n",
    "print('-----------------------------------')\n",
    "print('Number of Single Customers:',len(df_hc0[df_hc0['Marital status'] == 0]),'customers')\n",
    "print('Number of Non-single Customers:',len(df_hc0[df_hc0['Marital status'] == 1]),'customers')\n",
    "print('-----------------------------------')\n",
    "\n",
    "print('Unknown education :',len(df_hc0[df_hc0.Education == 0]),'customers')\n",
    "print('Highschool level :', len(df_hc0[df_hc0.Education == 1]),'customers')\n",
    "print('University level:', len(df_hc0[df_hc0.Education == 2]),'customers')\n",
    "print('Graduate:', len(df_hc0[df_hc0.Education == 2]),'customers')\n",
    "\n",
    "print('-----------------------------------')\n",
    "print('Customers live in small city:',len(df_hc0[df_hc0['Settlement size'] == 0]),'customers')\n",
    "print('Customers live in Mid-size city:',len(df_hc0[df_hc0['Settlement size'] == 1]),'customers')\n",
    "print('Customers live in Big city:',len(df_hc0[df_hc0['Settlement size'] == 1]),'customers')\n"
   ]
  },
  {
   "cell_type": "code",
   "execution_count": 41,
   "metadata": {},
   "outputs": [
    {
     "name": "stderr",
     "output_type": "stream",
     "text": [
      "/Users/chaunguyen/opt/anaconda3/lib/python3.9/site-packages/seaborn/distributions.py:2619: FutureWarning: `distplot` is a deprecated function and will be removed in a future version. Please adapt your code to use either `displot` (a figure-level function with similar flexibility) or `histplot` (an axes-level function for histograms).\n",
      "  warnings.warn(msg, FutureWarning)\n",
      "/Users/chaunguyen/opt/anaconda3/lib/python3.9/site-packages/seaborn/distributions.py:2619: FutureWarning: `distplot` is a deprecated function and will be removed in a future version. Please adapt your code to use either `displot` (a figure-level function with similar flexibility) or `histplot` (an axes-level function for histograms).\n",
      "  warnings.warn(msg, FutureWarning)\n"
     ]
    },
    {
     "data": {
      "image/png": "[encoded data removed]",
      "text/plain": [
       "<Figure size 1080x432 with 2 Axes>"
      ]
     },
     "metadata": {
      "needs_background": "light"
     },
     "output_type": "display_data"
    }
   ],
   "source": [
    "plt.figure(1, figsize=(15,6))\n",
    "n= 0 \n",
    "for x in [\"Age\", \"Income\"]:\n",
    "    n+=1\n",
    "    plt.subplot(1,2,n)\n",
    "    plt.subplots_adjust(hspace = 0.5, wspace = 0.5)\n",
    "    sns.distplot(df_hc0[x], bins = 20)\n",
    "    plt.title('Distribution of {} From Cluster 0'.format(x))\n",
    "plt.show()"
   ]
  },
  {
   "cell_type": "markdown",
   "metadata": {},
   "source": [
    "### Cluster 1"
   ]
  },
  {
   "cell_type": "code",
   "execution_count": 42,
   "metadata": {},
   "outputs": [
    {
     "name": "stdout",
     "output_type": "stream",
     "text": [
      "Number of Male Customers: 313 customers\n",
      "Number of Female Customers: 247 customers\n",
      "-----------------------------------\n",
      "Number of Unemployed Customers: 432 customers\n",
      "Number of Skilled Employed Customers: 122 customers\n",
      "Number of Managament Customers: 6 customers\n",
      "-----------------------------------\n",
      "Number of Single Customers: 260 customers\n",
      "Number of Non-single Customers: 300 customers\n",
      "-----------------------------------\n",
      "Unknown education : 103 customers\n",
      "Highschool level : 415 customers\n",
      "University level: 38 customers\n",
      "Graduate: 38 customers\n",
      "-----------------------------------\n",
      "Customers live in small city: 479 customers\n",
      "Customers live in Mid-size city: 42 customers\n",
      "Customers live in Big city: 42 customers\n"
     ]
    }
   ],
   "source": [
    "df_hc1 = df.loc[df['hierarchy_label']==1]\n",
    "\n",
    "print('Number of Male Customers:',len(df_hc1[df_hc1.Sex== 1]),'customers')\n",
    "print('Number of Female Customers:', len(df_hc1[df_hc1.Sex== 0]),'customers')\n",
    "print('-----------------------------------')\n",
    "\n",
    "print('Number of Unemployed Customers:',len(df_hc1[df_hc1.Occupation == 0]),'customers')\n",
    "print('Number of Skilled Employed Customers:', len(df_hc1[df_hc1.Occupation == 1]),'customers')\n",
    "print('Number of Managament Customers:', len(df_hc1[df_hc1.Occupation == 2]),'customers')\n",
    "\n",
    "print('-----------------------------------')\n",
    "print('Number of Single Customers:',len(df_hc1[df_hc1['Marital status'] == 0]),'customers')\n",
    "print('Number of Non-single Customers:',len(df_hc1[df_hc1['Marital status'] == 1]),'customers')\n",
    "print('-----------------------------------')\n",
    "\n",
    "print('Unknown education :',len(df_hc1[df_hc1.Education == 0]),'customers')\n",
    "print('Highschool level :', len(df_hc1[df_hc1.Education == 1]),'customers')\n",
    "print('University level:', len(df_hc1[df_hc1.Education == 2]),'customers')\n",
    "print('Graduate:', len(df_hc1[df_hc1.Education == 2]),'customers')\n",
    "\n",
    "print('-----------------------------------')\n",
    "print('Customers live in small city:',len(df_hc1[df_hc1['Settlement size'] == 0]),'customers')\n",
    "print('Customers live in Mid-size city:',len(df_hc1[df_hc1['Settlement size'] == 1]),'customers')\n",
    "print('Customers live in Big city:',len(df_hc1[df_hc1['Settlement size'] == 1]),'customers')\n"
   ]
  },
  {
   "cell_type": "code",
   "execution_count": 43,
   "metadata": {},
   "outputs": [
    {
     "name": "stderr",
     "output_type": "stream",
     "text": [
      "/Users/chaunguyen/opt/anaconda3/lib/python3.9/site-packages/seaborn/distributions.py:2619: FutureWarning: `distplot` is a deprecated function and will be removed in a future version. Please adapt your code to use either `displot` (a figure-level function with similar flexibility) or `histplot` (an axes-level function for histograms).\n",
      "  warnings.warn(msg, FutureWarning)\n",
      "/Users/chaunguyen/opt/anaconda3/lib/python3.9/site-packages/seaborn/distributions.py:2619: FutureWarning: `distplot` is a deprecated function and will be removed in a future version. Please adapt your code to use either `displot` (a figure-level function with similar flexibility) or `histplot` (an axes-level function for histograms).\n",
      "  warnings.warn(msg, FutureWarning)\n"
     ]
    },
    {
     "data": {
      "image/png": "[encoded data removed]",
      "text/plain": [
       "<Figure size 1080x432 with 2 Axes>"
      ]
     },
     "metadata": {
      "needs_background": "light"
     },
     "output_type": "display_data"
    }
   ],
   "source": [
    "plt.figure(1, figsize=(15,6))\n",
    "n= 0 \n",
    "for x in [\"Age\", \"Income\"]:\n",
    "    n+=1\n",
    "    plt.subplot(1,2,n)\n",
    "    plt.subplots_adjust(hspace = 0.5, wspace = 0.5)\n",
    "    sns.distplot(df_hc1[x], bins = 20)\n",
    "    plt.title('Distribution of {} From Cluster 1'.format(x))\n",
    "plt.show()"
   ]
  },
  {
   "cell_type": "markdown",
   "metadata": {},
   "source": [
    "### Cluster 2"
   ]
  },
  {
   "cell_type": "code",
   "execution_count": 44,
   "metadata": {},
   "outputs": [
    {
     "name": "stdout",
     "output_type": "stream",
     "text": [
      "Number of Male Customers: 153 customers\n",
      "Number of Female Customers: 338 customers\n",
      "-----------------------------------\n",
      "Number of Unemployed Customers: 35 customers\n",
      "Number of Skilled Employed Customers: 309 customers\n",
      "Number of Managament Customers: 147 customers\n",
      "-----------------------------------\n",
      "Number of Single Customers: 272 customers\n",
      "Number of Non-single Customers: 219 customers\n",
      "-----------------------------------\n",
      "Unknown education : 61 customers\n",
      "Highschool level : 296 customers\n",
      "University level: 112 customers\n",
      "Graduate: 112 customers\n",
      "-----------------------------------\n",
      "Customers live in small city: 82 customers\n",
      "Customers live in Mid-size city: 221 customers\n",
      "Customers live in Big city: 221 customers\n"
     ]
    }
   ],
   "source": [
    "df_hc2 = df.loc[df['hierarchy_label']==2]\n",
    "\n",
    "print('Number of Male Customers:',len(df_hc2[df_hc2.Sex== 1]),'customers')\n",
    "print('Number of Female Customers:', len(df_hc2[df_hc2.Sex== 0]),'customers')\n",
    "print('-----------------------------------')\n",
    "\n",
    "print('Number of Unemployed Customers:',len(df_hc2[df_hc2.Occupation == 0]),'customers')\n",
    "print('Number of Skilled Employed Customers:', len(df_hc2[df_hc2.Occupation == 1]),'customers')\n",
    "print('Number of Managament Customers:', len(df_hc2[df_hc2.Occupation == 2]),'customers')\n",
    "\n",
    "print('-----------------------------------')\n",
    "print('Number of Single Customers:',len(df_hc2[df_hc2['Marital status'] == 0]),'customers')\n",
    "print('Number of Non-single Customers:',len(df_hc2[df_hc2['Marital status'] == 1]),'customers')\n",
    "print('-----------------------------------')\n",
    "\n",
    "print('Unknown education :',len(df_hc2[df_hc2.Education == 0]),'customers')\n",
    "print('Highschool level :', len(df_hc2[df_hc2.Education == 1]),'customers')\n",
    "print('University level:', len(df_hc2[df_hc2.Education == 2]),'customers')\n",
    "print('Graduate:', len(df_hc2[df_hc2.Education == 2]),'customers')\n",
    "\n",
    "print('-----------------------------------')\n",
    "print('Customers live in small city:',len(df_hc2[df_hc2['Settlement size'] == 0]),'customers')\n",
    "print('Customers live in Mid-size city:',len(df_hc2[df_hc2['Settlement size'] == 1]),'customers')\n",
    "print('Customers live in Big city:',len(df_hc2[df_hc2['Settlement size'] == 1]),'customers')"
   ]
  },
  {
   "cell_type": "code",
   "execution_count": 45,
   "metadata": {},
   "outputs": [
    {
     "name": "stderr",
     "output_type": "stream",
     "text": [
      "/Users/chaunguyen/opt/anaconda3/lib/python3.9/site-packages/seaborn/distributions.py:2619: FutureWarning: `distplot` is a deprecated function and will be removed in a future version. Please adapt your code to use either `displot` (a figure-level function with similar flexibility) or `histplot` (an axes-level function for histograms).\n",
      "  warnings.warn(msg, FutureWarning)\n",
      "/Users/chaunguyen/opt/anaconda3/lib/python3.9/site-packages/seaborn/distributions.py:2619: FutureWarning: `distplot` is a deprecated function and will be removed in a future version. Please adapt your code to use either `displot` (a figure-level function with similar flexibility) or `histplot` (an axes-level function for histograms).\n",
      "  warnings.warn(msg, FutureWarning)\n"
     ]
    },
    {
     "data": {
      "image/png": "[encoded data removed]",
      "text/plain": [
       "<Figure size 1080x432 with 2 Axes>"
      ]
     },
     "metadata": {
      "needs_background": "light"
     },
     "output_type": "display_data"
    }
   ],
   "source": [
    "plt.figure(1, figsize=(15,6))\n",
    "n= 0 \n",
    "for x in [\"Age\", \"Income\"]:\n",
    "    n+=1\n",
    "    plt.subplot(1,2,n)\n",
    "    plt.subplots_adjust(hspace = 0.5, wspace = 0.5)\n",
    "    sns.distplot(df_hc2[x], bins = 20)\n",
    "    plt.title('Distribution of {} From Cluster 2'.format(x))\n",
    "plt.show()"
   ]
  },
  {
   "cell_type": "markdown",
   "metadata": {},
   "source": [
    "### Cluster 3"
   ]
  },
  {
   "cell_type": "code",
   "execution_count": 46,
   "metadata": {},
   "outputs": [
    {
     "data": {
      "text/html": [
       "<div>\n",
       "<style scoped>\n",
       "    .dataframe tbody tr th:only-of-type {\n",
       "        vertical-align: middle;\n",
       "    }\n",
       "\n",
       "    .dataframe tbody tr th {\n",
       "        vertical-align: top;\n",
       "    }\n",
       "\n",
       "    .dataframe thead th {\n",
       "        text-align: right;\n",
       "    }\n",
       "</style>\n",
       "<table border=\"1\" class=\"dataframe\">\n",
       "  <thead>\n",
       "    <tr style=\"text-align: right;\">\n",
       "      <th></th>\n",
       "      <th>Sex</th>\n",
       "      <th>Marital status</th>\n",
       "      <th>Age</th>\n",
       "      <th>Education</th>\n",
       "      <th>Income</th>\n",
       "      <th>Occupation</th>\n",
       "      <th>Settlement size</th>\n",
       "      <th>cluster_label</th>\n",
       "      <th>hierarchy_label</th>\n",
       "    </tr>\n",
       "  </thead>\n",
       "  <tbody>\n",
       "    <tr>\n",
       "      <th>0</th>\n",
       "      <td>0</td>\n",
       "      <td>0</td>\n",
       "      <td>67</td>\n",
       "      <td>2</td>\n",
       "      <td>124670</td>\n",
       "      <td>1</td>\n",
       "      <td>2</td>\n",
       "      <td>3</td>\n",
       "      <td>3</td>\n",
       "    </tr>\n",
       "    <tr>\n",
       "      <th>10</th>\n",
       "      <td>1</td>\n",
       "      <td>1</td>\n",
       "      <td>25</td>\n",
       "      <td>1</td>\n",
       "      <td>108469</td>\n",
       "      <td>1</td>\n",
       "      <td>0</td>\n",
       "      <td>3</td>\n",
       "      <td>3</td>\n",
       "    </tr>\n",
       "    <tr>\n",
       "      <th>11</th>\n",
       "      <td>1</td>\n",
       "      <td>1</td>\n",
       "      <td>24</td>\n",
       "      <td>1</td>\n",
       "      <td>127596</td>\n",
       "      <td>1</td>\n",
       "      <td>0</td>\n",
       "      <td>3</td>\n",
       "      <td>3</td>\n",
       "    </tr>\n",
       "    <tr>\n",
       "      <th>12</th>\n",
       "      <td>1</td>\n",
       "      <td>1</td>\n",
       "      <td>22</td>\n",
       "      <td>1</td>\n",
       "      <td>108687</td>\n",
       "      <td>1</td>\n",
       "      <td>2</td>\n",
       "      <td>3</td>\n",
       "      <td>3</td>\n",
       "    </tr>\n",
       "    <tr>\n",
       "      <th>14</th>\n",
       "      <td>1</td>\n",
       "      <td>1</td>\n",
       "      <td>28</td>\n",
       "      <td>1</td>\n",
       "      <td>102899</td>\n",
       "      <td>1</td>\n",
       "      <td>1</td>\n",
       "      <td>3</td>\n",
       "      <td>3</td>\n",
       "    </tr>\n",
       "    <tr>\n",
       "      <th>...</th>\n",
       "      <td>...</td>\n",
       "      <td>...</td>\n",
       "      <td>...</td>\n",
       "      <td>...</td>\n",
       "      <td>...</td>\n",
       "      <td>...</td>\n",
       "      <td>...</td>\n",
       "      <td>...</td>\n",
       "      <td>...</td>\n",
       "    </tr>\n",
       "    <tr>\n",
       "      <th>1991</th>\n",
       "      <td>0</td>\n",
       "      <td>0</td>\n",
       "      <td>54</td>\n",
       "      <td>1</td>\n",
       "      <td>128537</td>\n",
       "      <td>1</td>\n",
       "      <td>0</td>\n",
       "      <td>3</td>\n",
       "      <td>3</td>\n",
       "    </tr>\n",
       "    <tr>\n",
       "      <th>1992</th>\n",
       "      <td>1</td>\n",
       "      <td>0</td>\n",
       "      <td>51</td>\n",
       "      <td>1</td>\n",
       "      <td>101074</td>\n",
       "      <td>0</td>\n",
       "      <td>0</td>\n",
       "      <td>3</td>\n",
       "      <td>3</td>\n",
       "    </tr>\n",
       "    <tr>\n",
       "      <th>1994</th>\n",
       "      <td>0</td>\n",
       "      <td>0</td>\n",
       "      <td>45</td>\n",
       "      <td>1</td>\n",
       "      <td>113414</td>\n",
       "      <td>1</td>\n",
       "      <td>0</td>\n",
       "      <td>3</td>\n",
       "      <td>3</td>\n",
       "    </tr>\n",
       "    <tr>\n",
       "      <th>1995</th>\n",
       "      <td>1</td>\n",
       "      <td>0</td>\n",
       "      <td>47</td>\n",
       "      <td>1</td>\n",
       "      <td>123525</td>\n",
       "      <td>0</td>\n",
       "      <td>0</td>\n",
       "      <td>3</td>\n",
       "      <td>3</td>\n",
       "    </tr>\n",
       "    <tr>\n",
       "      <th>1996</th>\n",
       "      <td>1</td>\n",
       "      <td>1</td>\n",
       "      <td>27</td>\n",
       "      <td>1</td>\n",
       "      <td>117744</td>\n",
       "      <td>1</td>\n",
       "      <td>0</td>\n",
       "      <td>3</td>\n",
       "      <td>3</td>\n",
       "    </tr>\n",
       "  </tbody>\n",
       "</table>\n",
       "<p>839 rows × 9 columns</p>\n",
       "</div>"
      ],
      "text/plain": [
       "      Sex  Marital status  Age  Education  Income  Occupation  \\\n",
       "0       0               0   67          2  124670           1   \n",
       "10      1               1   25          1  108469           1   \n",
       "11      1               1   24          1  127596           1   \n",
       "12      1               1   22          1  108687           1   \n",
       "14      1               1   28          1  102899           1   \n",
       "...   ...             ...  ...        ...     ...         ...   \n",
       "1991    0               0   54          1  128537           1   \n",
       "1992    1               0   51          1  101074           0   \n",
       "1994    0               0   45          1  113414           1   \n",
       "1995    1               0   47          1  123525           0   \n",
       "1996    1               1   27          1  117744           1   \n",
       "\n",
       "      Settlement size  cluster_label  hierarchy_label  \n",
       "0                   2              3                3  \n",
       "10                  0              3                3  \n",
       "11                  0              3                3  \n",
       "12                  2              3                3  \n",
       "14                  1              3                3  \n",
       "...               ...            ...              ...  \n",
       "1991                0              3                3  \n",
       "1992                0              3                3  \n",
       "1994                0              3                3  \n",
       "1995                0              3                3  \n",
       "1996                0              3                3  \n",
       "\n",
       "[839 rows x 9 columns]"
      ]
     },
     "execution_count": 46,
     "metadata": {},
     "output_type": "execute_result"
    }
   ],
   "source": [
    "df_hc3 = df.loc[df['hierarchy_label']==3]\n",
    "df_hc3"
   ]
  },
  {
   "cell_type": "code",
   "execution_count": 47,
   "metadata": {},
   "outputs": [
    {
     "name": "stderr",
     "output_type": "stream",
     "text": [
      "/Users/chaunguyen/opt/anaconda3/lib/python3.9/site-packages/seaborn/distributions.py:2619: FutureWarning: `distplot` is a deprecated function and will be removed in a future version. Please adapt your code to use either `displot` (a figure-level function with similar flexibility) or `histplot` (an axes-level function for histograms).\n",
      "  warnings.warn(msg, FutureWarning)\n",
      "/Users/chaunguyen/opt/anaconda3/lib/python3.9/site-packages/seaborn/distributions.py:2619: FutureWarning: `distplot` is a deprecated function and will be removed in a future version. Please adapt your code to use either `displot` (a figure-level function with similar flexibility) or `histplot` (an axes-level function for histograms).\n",
      "  warnings.warn(msg, FutureWarning)\n"
     ]
    },
    {
     "data": {
      "image/png": "[encoded data removed]",
      "text/plain": [
       "<Figure size 1080x432 with 2 Axes>"
      ]
     },
     "metadata": {
      "needs_background": "light"
     },
     "output_type": "display_data"
    }
   ],
   "source": [
    "plt.figure(1, figsize=(15,6))\n",
    "n= 0 \n",
    "for x in [\"Age\", \"Income\"]:\n",
    "    n+=1\n",
    "    plt.subplot(1,2,n)\n",
    "    plt.subplots_adjust(hspace = 0.5, wspace = 0.5)\n",
    "    sns.distplot(df_hc3[x], bins = 20)\n",
    "    plt.title('Distribution of {} From Cluster 3'.format(x))\n",
    "plt.show()"
   ]
  },
  {
   "cell_type": "code",
   "execution_count": 48,
   "metadata": {},
   "outputs": [
    {
     "name": "stdout",
     "output_type": "stream",
     "text": [
      "Number of Male Customers: 416 customers\n",
      "Number of Female Customers: 423 customers\n",
      "-----------------------------------\n",
      "Number of Unemployed Customers: 166 customers\n",
      "Number of Skilled Employed Customers: 654 customers\n",
      "Number of Managament Customers: 19 customers\n",
      "-----------------------------------\n",
      "Number of Single Customers: 409 customers\n",
      "Number of Non-single Customers: 430 customers\n",
      "-----------------------------------\n",
      "Unknown education : 107 customers\n",
      "Highschool level : 631 customers\n",
      "University level: 95 customers\n",
      "Graduate: 95 customers\n",
      "-----------------------------------\n",
      "Customers live in small city: 420 customers\n",
      "Customers live in Mid-size city: 237 customers\n",
      "Customers live in Big city: 237 customers\n"
     ]
    }
   ],
   "source": [
    "print('Number of Male Customers:',len(df_hc3[df_hc3.Sex== 1]),'customers')\n",
    "print('Number of Female Customers:', len(df_hc3[df_hc3.Sex== 0]),'customers')\n",
    "print('-----------------------------------')\n",
    "\n",
    "print('Number of Unemployed Customers:',len(df_hc3[df_hc3.Occupation == 0]),'customers')\n",
    "print('Number of Skilled Employed Customers:', len(df_hc3[df_hc3.Occupation == 1]),'customers')\n",
    "print('Number of Managament Customers:', len(df_hc3[df_hc3.Occupation == 2]),'customers')\n",
    "\n",
    "print('-----------------------------------')\n",
    "print('Number of Single Customers:',len(df_hc3[df_hc3['Marital status'] == 0]),'customers')\n",
    "print('Number of Non-single Customers:',len(df_hc3[df_hc3['Marital status'] == 1]),'customers')\n",
    "print('-----------------------------------')\n",
    "\n",
    "print('Unknown education :',len(df_hc3[df_hc3.Education == 0]),'customers')\n",
    "print('Highschool level :', len(df_hc3[df_hc3.Education == 1]),'customers')\n",
    "print('University level:', len(df_hc3[df_hc3.Education == 2]),'customers')\n",
    "print('Graduate:', len(df_hc3[df_hc3.Education == 2]),'customers')\n",
    "\n",
    "print('-----------------------------------')\n",
    "print('Customers live in small city:',len(df_hc3[df_hc3['Settlement size'] == 0]),'customers')\n",
    "print('Customers live in Mid-size city:',len(df_hc3[df_hc3['Settlement size'] == 1]),'customers')\n",
    "print('Customers live in Big city:',len(df_hc3[df_hc3['Settlement size'] == 1]),'customers')"
   ]
  }
 ],
 "metadata": {
  "celltoolbar": "Raw Cell Format",
  "kernelspec": {
   "display_name": "Python 3 (ipykernel)",
   "language": "python",
   "name": "python3"
  },
  "language_info": {
   "codemirror_mode": {
    "name": "ipython",
    "version": 3
   },
   "file_extension": ".py",
   "mimetype": "text/x-python",
   "name": "python",
   "nbconvert_exporter": "python",
   "pygments_lexer": "ipython3",
   "version": "3.9.7"
  }
 },
 "nbformat": 4,
 "nbformat_minor": 4
}
